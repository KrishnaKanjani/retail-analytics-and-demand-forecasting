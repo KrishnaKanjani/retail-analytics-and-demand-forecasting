{
 "cells": [
  {
   "cell_type": "markdown",
   "id": "6d2f4c1f",
   "metadata": {},
   "source": [
    "<h1> RETAIL ANALYTICS WITH DEMAND FORECASTING AND ANALYSIS </h1>"
   ]
  },
  {
   "cell_type": "markdown",
   "id": "c88f8acb",
   "metadata": {},
   "source": [
    "## ~ Importing Required Libraries ~"
   ]
  },
  {
   "cell_type": "code",
   "execution_count": 1,
   "id": "b38e3f8b",
   "metadata": {},
   "outputs": [],
   "source": [
    "import pandas as pd\n",
    "import numpy as np # For linear algebra\n",
    "import math # For math operations \n",
    "\n",
    "# For Data preprocessing\n",
    "from sklearn.preprocessing import LabelEncoder\n",
    "from sklearn.model_selection import train_test_split\n",
    "\n",
    "# For Model Building and Fitting\n",
    "from sklearn.ensemble import RandomForestClassifier\n",
    "from prophet import Prophet\n",
    "\n",
    "# For Model Evaluation and Tuning\n",
    "from sklearn.metrics import accuracy_score, classification_report, confusion_matrix\n",
    "\n",
    "# Visualization libraries\n",
    "import seaborn as sns\n",
    "import matplotlib.pyplot as plt # for plotting"
   ]
  },
  {
   "cell_type": "markdown",
   "id": "c12472a3",
   "metadata": {},
   "source": [
    "## ~ Exploratory Data Analysis ~"
   ]
  },
  {
   "cell_type": "code",
   "execution_count": 2,
   "id": "eb601614",
   "metadata": {},
   "outputs": [
    {
     "data": {
      "text/html": [
       "<div>\n",
       "<style scoped>\n",
       "    .dataframe tbody tr th:only-of-type {\n",
       "        vertical-align: middle;\n",
       "    }\n",
       "\n",
       "    .dataframe tbody tr th {\n",
       "        vertical-align: top;\n",
       "    }\n",
       "\n",
       "    .dataframe thead th {\n",
       "        text-align: right;\n",
       "    }\n",
       "</style>\n",
       "<table border=\"1\" class=\"dataframe\">\n",
       "  <thead>\n",
       "    <tr style=\"text-align: right;\">\n",
       "      <th></th>\n",
       "      <th>Type</th>\n",
       "      <th>Days for shipping (real)</th>\n",
       "      <th>Days for shipment (scheduled)</th>\n",
       "      <th>Benefit per order</th>\n",
       "      <th>Sales per customer</th>\n",
       "      <th>Delivery Status</th>\n",
       "      <th>Late_delivery_risk</th>\n",
       "      <th>Category Id</th>\n",
       "      <th>Category Name</th>\n",
       "      <th>Customer City</th>\n",
       "      <th>...</th>\n",
       "      <th>Order Zipcode</th>\n",
       "      <th>Product Card Id</th>\n",
       "      <th>Product Category Id</th>\n",
       "      <th>Product Description</th>\n",
       "      <th>Product Image</th>\n",
       "      <th>Product Name</th>\n",
       "      <th>Product Price</th>\n",
       "      <th>Product Status</th>\n",
       "      <th>shipping date (DateOrders)</th>\n",
       "      <th>Shipping Mode</th>\n",
       "    </tr>\n",
       "  </thead>\n",
       "  <tbody>\n",
       "    <tr>\n",
       "      <th>0</th>\n",
       "      <td>DEBIT</td>\n",
       "      <td>3</td>\n",
       "      <td>4</td>\n",
       "      <td>91.250000</td>\n",
       "      <td>314.640015</td>\n",
       "      <td>Advance shipping</td>\n",
       "      <td>0</td>\n",
       "      <td>73</td>\n",
       "      <td>Sporting Goods</td>\n",
       "      <td>Caguas</td>\n",
       "      <td>...</td>\n",
       "      <td>NaN</td>\n",
       "      <td>1360</td>\n",
       "      <td>73</td>\n",
       "      <td>NaN</td>\n",
       "      <td>http://images.acmesports.sports/Smart+watch</td>\n",
       "      <td>Smart watch</td>\n",
       "      <td>327.75</td>\n",
       "      <td>0</td>\n",
       "      <td>2018-03-02 22:56:00</td>\n",
       "      <td>Standard Class</td>\n",
       "    </tr>\n",
       "    <tr>\n",
       "      <th>1</th>\n",
       "      <td>TRANSFER</td>\n",
       "      <td>5</td>\n",
       "      <td>4</td>\n",
       "      <td>-249.089996</td>\n",
       "      <td>311.359985</td>\n",
       "      <td>Late delivery</td>\n",
       "      <td>1</td>\n",
       "      <td>73</td>\n",
       "      <td>Sporting Goods</td>\n",
       "      <td>Caguas</td>\n",
       "      <td>...</td>\n",
       "      <td>NaN</td>\n",
       "      <td>1360</td>\n",
       "      <td>73</td>\n",
       "      <td>NaN</td>\n",
       "      <td>http://images.acmesports.sports/Smart+watch</td>\n",
       "      <td>Smart watch</td>\n",
       "      <td>327.75</td>\n",
       "      <td>0</td>\n",
       "      <td>1/18/2018 12:27</td>\n",
       "      <td>Standard Class</td>\n",
       "    </tr>\n",
       "    <tr>\n",
       "      <th>2</th>\n",
       "      <td>CASH</td>\n",
       "      <td>4</td>\n",
       "      <td>4</td>\n",
       "      <td>-247.779999</td>\n",
       "      <td>309.720001</td>\n",
       "      <td>Shipping on time</td>\n",
       "      <td>0</td>\n",
       "      <td>73</td>\n",
       "      <td>Sporting Goods</td>\n",
       "      <td>San Jose</td>\n",
       "      <td>...</td>\n",
       "      <td>NaN</td>\n",
       "      <td>1360</td>\n",
       "      <td>73</td>\n",
       "      <td>NaN</td>\n",
       "      <td>http://images.acmesports.sports/Smart+watch</td>\n",
       "      <td>Smart watch</td>\n",
       "      <td>327.75</td>\n",
       "      <td>0</td>\n",
       "      <td>1/17/2018 12:06</td>\n",
       "      <td>Standard Class</td>\n",
       "    </tr>\n",
       "    <tr>\n",
       "      <th>3</th>\n",
       "      <td>DEBIT</td>\n",
       "      <td>3</td>\n",
       "      <td>4</td>\n",
       "      <td>22.860001</td>\n",
       "      <td>304.809998</td>\n",
       "      <td>Advance shipping</td>\n",
       "      <td>0</td>\n",
       "      <td>73</td>\n",
       "      <td>Sporting Goods</td>\n",
       "      <td>Los Angeles</td>\n",
       "      <td>...</td>\n",
       "      <td>NaN</td>\n",
       "      <td>1360</td>\n",
       "      <td>73</td>\n",
       "      <td>NaN</td>\n",
       "      <td>http://images.acmesports.sports/Smart+watch</td>\n",
       "      <td>Smart watch</td>\n",
       "      <td>327.75</td>\n",
       "      <td>0</td>\n",
       "      <td>1/16/2018 11:45</td>\n",
       "      <td>Standard Class</td>\n",
       "    </tr>\n",
       "    <tr>\n",
       "      <th>4</th>\n",
       "      <td>PAYMENT</td>\n",
       "      <td>2</td>\n",
       "      <td>4</td>\n",
       "      <td>134.210007</td>\n",
       "      <td>298.250000</td>\n",
       "      <td>Advance shipping</td>\n",
       "      <td>0</td>\n",
       "      <td>73</td>\n",
       "      <td>Sporting Goods</td>\n",
       "      <td>Caguas</td>\n",
       "      <td>...</td>\n",
       "      <td>NaN</td>\n",
       "      <td>1360</td>\n",
       "      <td>73</td>\n",
       "      <td>NaN</td>\n",
       "      <td>http://images.acmesports.sports/Smart+watch</td>\n",
       "      <td>Smart watch</td>\n",
       "      <td>327.75</td>\n",
       "      <td>0</td>\n",
       "      <td>1/15/2018 11:24</td>\n",
       "      <td>Standard Class</td>\n",
       "    </tr>\n",
       "  </tbody>\n",
       "</table>\n",
       "<p>5 rows × 53 columns</p>\n",
       "</div>"
      ],
      "text/plain": [
       "       Type  Days for shipping (real)  Days for shipment (scheduled)  \\\n",
       "0     DEBIT                         3                              4   \n",
       "1  TRANSFER                         5                              4   \n",
       "2      CASH                         4                              4   \n",
       "3     DEBIT                         3                              4   \n",
       "4   PAYMENT                         2                              4   \n",
       "\n",
       "   Benefit per order  Sales per customer   Delivery Status  \\\n",
       "0          91.250000          314.640015  Advance shipping   \n",
       "1        -249.089996          311.359985     Late delivery   \n",
       "2        -247.779999          309.720001  Shipping on time   \n",
       "3          22.860001          304.809998  Advance shipping   \n",
       "4         134.210007          298.250000  Advance shipping   \n",
       "\n",
       "   Late_delivery_risk  Category Id   Category Name Customer City  ...  \\\n",
       "0                   0           73  Sporting Goods        Caguas  ...   \n",
       "1                   1           73  Sporting Goods        Caguas  ...   \n",
       "2                   0           73  Sporting Goods      San Jose  ...   \n",
       "3                   0           73  Sporting Goods   Los Angeles  ...   \n",
       "4                   0           73  Sporting Goods        Caguas  ...   \n",
       "\n",
       "  Order Zipcode Product Card Id Product Category Id  Product Description  \\\n",
       "0           NaN            1360                  73                  NaN   \n",
       "1           NaN            1360                  73                  NaN   \n",
       "2           NaN            1360                  73                  NaN   \n",
       "3           NaN            1360                  73                  NaN   \n",
       "4           NaN            1360                  73                  NaN   \n",
       "\n",
       "                                  Product Image  Product Name Product Price  \\\n",
       "0  http://images.acmesports.sports/Smart+watch   Smart watch         327.75   \n",
       "1  http://images.acmesports.sports/Smart+watch   Smart watch         327.75   \n",
       "2  http://images.acmesports.sports/Smart+watch   Smart watch         327.75   \n",
       "3  http://images.acmesports.sports/Smart+watch   Smart watch         327.75   \n",
       "4  http://images.acmesports.sports/Smart+watch   Smart watch         327.75   \n",
       "\n",
       "  Product Status shipping date (DateOrders)   Shipping Mode  \n",
       "0              0        2018-03-02 22:56:00  Standard Class  \n",
       "1              0            1/18/2018 12:27  Standard Class  \n",
       "2              0            1/17/2018 12:06  Standard Class  \n",
       "3              0            1/16/2018 11:45  Standard Class  \n",
       "4              0            1/15/2018 11:24  Standard Class  \n",
       "\n",
       "[5 rows x 53 columns]"
      ]
     },
     "execution_count": 2,
     "metadata": {},
     "output_type": "execute_result"
    }
   ],
   "source": [
    "dataset = pd.read_excel(\"dataset.xlsx\")\n",
    "dataset.head(5)"
   ]
  },
  {
   "cell_type": "code",
   "execution_count": 3,
   "id": "acd60890",
   "metadata": {},
   "outputs": [
    {
     "data": {
      "text/html": [
       "<div>\n",
       "<style scoped>\n",
       "    .dataframe tbody tr th:only-of-type {\n",
       "        vertical-align: middle;\n",
       "    }\n",
       "\n",
       "    .dataframe tbody tr th {\n",
       "        vertical-align: top;\n",
       "    }\n",
       "\n",
       "    .dataframe thead th {\n",
       "        text-align: right;\n",
       "    }\n",
       "</style>\n",
       "<table border=\"1\" class=\"dataframe\">\n",
       "  <thead>\n",
       "    <tr style=\"text-align: right;\">\n",
       "      <th></th>\n",
       "      <th>Days for shipping (real)</th>\n",
       "      <th>Days for shipment (scheduled)</th>\n",
       "      <th>Benefit per order</th>\n",
       "      <th>Sales per customer</th>\n",
       "      <th>Late_delivery_risk</th>\n",
       "      <th>Category Id</th>\n",
       "      <th>Customer Id</th>\n",
       "      <th>Customer Zipcode</th>\n",
       "      <th>Department Id</th>\n",
       "      <th>Latitude</th>\n",
       "      <th>...</th>\n",
       "      <th>Order Item Quantity</th>\n",
       "      <th>Sales</th>\n",
       "      <th>Order Item Total</th>\n",
       "      <th>Order Profit Per Order</th>\n",
       "      <th>Order Zipcode</th>\n",
       "      <th>Product Card Id</th>\n",
       "      <th>Product Category Id</th>\n",
       "      <th>Product Description</th>\n",
       "      <th>Product Price</th>\n",
       "      <th>Product Status</th>\n",
       "    </tr>\n",
       "  </thead>\n",
       "  <tbody>\n",
       "    <tr>\n",
       "      <th>count</th>\n",
       "      <td>180519.000000</td>\n",
       "      <td>180519.000000</td>\n",
       "      <td>180519.000000</td>\n",
       "      <td>180519.000000</td>\n",
       "      <td>180519.000000</td>\n",
       "      <td>180519.000000</td>\n",
       "      <td>180519.000000</td>\n",
       "      <td>180516.000000</td>\n",
       "      <td>180519.000000</td>\n",
       "      <td>180519.000000</td>\n",
       "      <td>...</td>\n",
       "      <td>180519.000000</td>\n",
       "      <td>180519.000000</td>\n",
       "      <td>180519.000000</td>\n",
       "      <td>180519.000000</td>\n",
       "      <td>24840.000000</td>\n",
       "      <td>180519.000000</td>\n",
       "      <td>180519.000000</td>\n",
       "      <td>0.0</td>\n",
       "      <td>180519.000000</td>\n",
       "      <td>180519.0</td>\n",
       "    </tr>\n",
       "    <tr>\n",
       "      <th>mean</th>\n",
       "      <td>3.497654</td>\n",
       "      <td>2.931847</td>\n",
       "      <td>21.974989</td>\n",
       "      <td>183.107609</td>\n",
       "      <td>0.548291</td>\n",
       "      <td>31.851451</td>\n",
       "      <td>6691.379495</td>\n",
       "      <td>35921.126914</td>\n",
       "      <td>5.443460</td>\n",
       "      <td>29.719955</td>\n",
       "      <td>...</td>\n",
       "      <td>2.127638</td>\n",
       "      <td>203.772096</td>\n",
       "      <td>183.107609</td>\n",
       "      <td>21.974989</td>\n",
       "      <td>55426.132327</td>\n",
       "      <td>692.509764</td>\n",
       "      <td>31.851451</td>\n",
       "      <td>NaN</td>\n",
       "      <td>141.232550</td>\n",
       "      <td>0.0</td>\n",
       "    </tr>\n",
       "    <tr>\n",
       "      <th>std</th>\n",
       "      <td>1.623722</td>\n",
       "      <td>1.374449</td>\n",
       "      <td>104.433526</td>\n",
       "      <td>120.043670</td>\n",
       "      <td>0.497664</td>\n",
       "      <td>15.640064</td>\n",
       "      <td>4162.918106</td>\n",
       "      <td>37542.461122</td>\n",
       "      <td>1.629246</td>\n",
       "      <td>9.813646</td>\n",
       "      <td>...</td>\n",
       "      <td>1.453451</td>\n",
       "      <td>132.273077</td>\n",
       "      <td>120.043670</td>\n",
       "      <td>104.433526</td>\n",
       "      <td>31919.279101</td>\n",
       "      <td>336.446807</td>\n",
       "      <td>15.640064</td>\n",
       "      <td>NaN</td>\n",
       "      <td>139.732492</td>\n",
       "      <td>0.0</td>\n",
       "    </tr>\n",
       "    <tr>\n",
       "      <th>min</th>\n",
       "      <td>0.000000</td>\n",
       "      <td>0.000000</td>\n",
       "      <td>-4274.979980</td>\n",
       "      <td>7.490000</td>\n",
       "      <td>0.000000</td>\n",
       "      <td>2.000000</td>\n",
       "      <td>1.000000</td>\n",
       "      <td>603.000000</td>\n",
       "      <td>2.000000</td>\n",
       "      <td>-33.937553</td>\n",
       "      <td>...</td>\n",
       "      <td>1.000000</td>\n",
       "      <td>9.990000</td>\n",
       "      <td>7.490000</td>\n",
       "      <td>-4274.979980</td>\n",
       "      <td>1040.000000</td>\n",
       "      <td>19.000000</td>\n",
       "      <td>2.000000</td>\n",
       "      <td>NaN</td>\n",
       "      <td>9.990000</td>\n",
       "      <td>0.0</td>\n",
       "    </tr>\n",
       "    <tr>\n",
       "      <th>25%</th>\n",
       "      <td>2.000000</td>\n",
       "      <td>2.000000</td>\n",
       "      <td>7.000000</td>\n",
       "      <td>104.379997</td>\n",
       "      <td>0.000000</td>\n",
       "      <td>18.000000</td>\n",
       "      <td>3258.500000</td>\n",
       "      <td>725.000000</td>\n",
       "      <td>4.000000</td>\n",
       "      <td>18.265432</td>\n",
       "      <td>...</td>\n",
       "      <td>1.000000</td>\n",
       "      <td>119.980003</td>\n",
       "      <td>104.379997</td>\n",
       "      <td>7.000000</td>\n",
       "      <td>23464.000000</td>\n",
       "      <td>403.000000</td>\n",
       "      <td>18.000000</td>\n",
       "      <td>NaN</td>\n",
       "      <td>50.000000</td>\n",
       "      <td>0.0</td>\n",
       "    </tr>\n",
       "    <tr>\n",
       "      <th>50%</th>\n",
       "      <td>3.000000</td>\n",
       "      <td>4.000000</td>\n",
       "      <td>31.520000</td>\n",
       "      <td>163.990005</td>\n",
       "      <td>1.000000</td>\n",
       "      <td>29.000000</td>\n",
       "      <td>6457.000000</td>\n",
       "      <td>19380.000000</td>\n",
       "      <td>5.000000</td>\n",
       "      <td>33.144863</td>\n",
       "      <td>...</td>\n",
       "      <td>1.000000</td>\n",
       "      <td>199.919998</td>\n",
       "      <td>163.990005</td>\n",
       "      <td>31.520000</td>\n",
       "      <td>59405.000000</td>\n",
       "      <td>627.000000</td>\n",
       "      <td>29.000000</td>\n",
       "      <td>NaN</td>\n",
       "      <td>59.990002</td>\n",
       "      <td>0.0</td>\n",
       "    </tr>\n",
       "    <tr>\n",
       "      <th>75%</th>\n",
       "      <td>5.000000</td>\n",
       "      <td>4.000000</td>\n",
       "      <td>64.800003</td>\n",
       "      <td>247.399994</td>\n",
       "      <td>1.000000</td>\n",
       "      <td>45.000000</td>\n",
       "      <td>9779.000000</td>\n",
       "      <td>78207.000000</td>\n",
       "      <td>7.000000</td>\n",
       "      <td>39.279617</td>\n",
       "      <td>...</td>\n",
       "      <td>3.000000</td>\n",
       "      <td>299.950012</td>\n",
       "      <td>247.399994</td>\n",
       "      <td>64.800003</td>\n",
       "      <td>90008.000000</td>\n",
       "      <td>1004.000000</td>\n",
       "      <td>45.000000</td>\n",
       "      <td>NaN</td>\n",
       "      <td>199.990005</td>\n",
       "      <td>0.0</td>\n",
       "    </tr>\n",
       "    <tr>\n",
       "      <th>max</th>\n",
       "      <td>6.000000</td>\n",
       "      <td>4.000000</td>\n",
       "      <td>911.799988</td>\n",
       "      <td>1939.989990</td>\n",
       "      <td>1.000000</td>\n",
       "      <td>76.000000</td>\n",
       "      <td>20757.000000</td>\n",
       "      <td>99205.000000</td>\n",
       "      <td>12.000000</td>\n",
       "      <td>48.781933</td>\n",
       "      <td>...</td>\n",
       "      <td>5.000000</td>\n",
       "      <td>1999.989990</td>\n",
       "      <td>1939.989990</td>\n",
       "      <td>911.799988</td>\n",
       "      <td>99301.000000</td>\n",
       "      <td>1363.000000</td>\n",
       "      <td>76.000000</td>\n",
       "      <td>NaN</td>\n",
       "      <td>1999.989990</td>\n",
       "      <td>0.0</td>\n",
       "    </tr>\n",
       "  </tbody>\n",
       "</table>\n",
       "<p>8 rows × 29 columns</p>\n",
       "</div>"
      ],
      "text/plain": [
       "       Days for shipping (real)  Days for shipment (scheduled)  \\\n",
       "count             180519.000000                  180519.000000   \n",
       "mean                   3.497654                       2.931847   \n",
       "std                    1.623722                       1.374449   \n",
       "min                    0.000000                       0.000000   \n",
       "25%                    2.000000                       2.000000   \n",
       "50%                    3.000000                       4.000000   \n",
       "75%                    5.000000                       4.000000   \n",
       "max                    6.000000                       4.000000   \n",
       "\n",
       "       Benefit per order  Sales per customer  Late_delivery_risk  \\\n",
       "count      180519.000000       180519.000000       180519.000000   \n",
       "mean           21.974989          183.107609            0.548291   \n",
       "std           104.433526          120.043670            0.497664   \n",
       "min         -4274.979980            7.490000            0.000000   \n",
       "25%             7.000000          104.379997            0.000000   \n",
       "50%            31.520000          163.990005            1.000000   \n",
       "75%            64.800003          247.399994            1.000000   \n",
       "max           911.799988         1939.989990            1.000000   \n",
       "\n",
       "         Category Id    Customer Id  Customer Zipcode  Department Id  \\\n",
       "count  180519.000000  180519.000000     180516.000000  180519.000000   \n",
       "mean       31.851451    6691.379495      35921.126914       5.443460   \n",
       "std        15.640064    4162.918106      37542.461122       1.629246   \n",
       "min         2.000000       1.000000        603.000000       2.000000   \n",
       "25%        18.000000    3258.500000        725.000000       4.000000   \n",
       "50%        29.000000    6457.000000      19380.000000       5.000000   \n",
       "75%        45.000000    9779.000000      78207.000000       7.000000   \n",
       "max        76.000000   20757.000000      99205.000000      12.000000   \n",
       "\n",
       "            Latitude  ...  Order Item Quantity          Sales  \\\n",
       "count  180519.000000  ...        180519.000000  180519.000000   \n",
       "mean       29.719955  ...             2.127638     203.772096   \n",
       "std         9.813646  ...             1.453451     132.273077   \n",
       "min       -33.937553  ...             1.000000       9.990000   \n",
       "25%        18.265432  ...             1.000000     119.980003   \n",
       "50%        33.144863  ...             1.000000     199.919998   \n",
       "75%        39.279617  ...             3.000000     299.950012   \n",
       "max        48.781933  ...             5.000000    1999.989990   \n",
       "\n",
       "       Order Item Total  Order Profit Per Order  Order Zipcode  \\\n",
       "count     180519.000000           180519.000000   24840.000000   \n",
       "mean         183.107609               21.974989   55426.132327   \n",
       "std          120.043670              104.433526   31919.279101   \n",
       "min            7.490000            -4274.979980    1040.000000   \n",
       "25%          104.379997                7.000000   23464.000000   \n",
       "50%          163.990005               31.520000   59405.000000   \n",
       "75%          247.399994               64.800003   90008.000000   \n",
       "max         1939.989990              911.799988   99301.000000   \n",
       "\n",
       "       Product Card Id  Product Category Id  Product Description  \\\n",
       "count    180519.000000        180519.000000                  0.0   \n",
       "mean        692.509764            31.851451                  NaN   \n",
       "std         336.446807            15.640064                  NaN   \n",
       "min          19.000000             2.000000                  NaN   \n",
       "25%         403.000000            18.000000                  NaN   \n",
       "50%         627.000000            29.000000                  NaN   \n",
       "75%        1004.000000            45.000000                  NaN   \n",
       "max        1363.000000            76.000000                  NaN   \n",
       "\n",
       "       Product Price  Product Status  \n",
       "count  180519.000000        180519.0  \n",
       "mean      141.232550             0.0  \n",
       "std       139.732492             0.0  \n",
       "min         9.990000             0.0  \n",
       "25%        50.000000             0.0  \n",
       "50%        59.990002             0.0  \n",
       "75%       199.990005             0.0  \n",
       "max      1999.989990             0.0  \n",
       "\n",
       "[8 rows x 29 columns]"
      ]
     },
     "execution_count": 3,
     "metadata": {},
     "output_type": "execute_result"
    }
   ],
   "source": [
    "dataset.describe()"
   ]
  },
  {
   "cell_type": "markdown",
   "id": "64825aa3",
   "metadata": {},
   "source": [
    "From this we get to know that:\n",
    "<li>There are 180519 orders made </li>\n",
    "<li>Aproximately 55% of orders had late delivery risks.</li>\n",
    "<li>All the products are available.</li>\n",
    "<li>75% of customers bought goods worth at least $247.40.</li>"
   ]
  },
  {
   "cell_type": "code",
   "execution_count": 3,
   "id": "98ad6c0c",
   "metadata": {},
   "outputs": [
    {
     "name": "stdout",
     "output_type": "stream",
     "text": [
      "<class 'pandas.core.frame.DataFrame'>\n",
      "RangeIndex: 180519 entries, 0 to 180518\n",
      "Data columns (total 53 columns):\n",
      " #   Column                         Non-Null Count   Dtype  \n",
      "---  ------                         --------------   -----  \n",
      " 0   Type                           180519 non-null  object \n",
      " 1   Days for shipping (real)       180519 non-null  int64  \n",
      " 2   Days for shipment (scheduled)  180519 non-null  int64  \n",
      " 3   Benefit per order              180519 non-null  float64\n",
      " 4   Sales per customer             180519 non-null  float64\n",
      " 5   Delivery Status                180519 non-null  object \n",
      " 6   Late_delivery_risk             180519 non-null  int64  \n",
      " 7   Category Id                    180519 non-null  int64  \n",
      " 8   Category Name                  180519 non-null  object \n",
      " 9   Customer City                  180519 non-null  object \n",
      " 10  Customer Country               180519 non-null  object \n",
      " 11  Customer Email                 180519 non-null  object \n",
      " 12  Customer Fname                 180519 non-null  object \n",
      " 13  Customer Id                    180519 non-null  int64  \n",
      " 14  Customer Lname                 180511 non-null  object \n",
      " 15  Customer Password              180519 non-null  object \n",
      " 16  Customer Segment               180519 non-null  object \n",
      " 17  Customer State                 180519 non-null  object \n",
      " 18  Customer Street                180519 non-null  object \n",
      " 19  Customer Zipcode               180516 non-null  float64\n",
      " 20  Department Id                  180519 non-null  int64  \n",
      " 21  Department Name                180519 non-null  object \n",
      " 22  Latitude                       180519 non-null  float64\n",
      " 23  Longitude                      180519 non-null  float64\n",
      " 24  Market                         180519 non-null  object \n",
      " 25  Order City                     180519 non-null  object \n",
      " 26  Order Country                  180519 non-null  object \n",
      " 27  Order Customer Id              180519 non-null  int64  \n",
      " 28  order date (DateOrders)        180519 non-null  object \n",
      " 29  Order Id                       180519 non-null  int64  \n",
      " 30  Order Item Cardprod Id         180519 non-null  int64  \n",
      " 31  Order Item Discount            180519 non-null  float64\n",
      " 32  Order Item Discount Rate       180519 non-null  float64\n",
      " 33  Order Item Id                  180519 non-null  int64  \n",
      " 34  Order Item Product Price       180519 non-null  float64\n",
      " 35  Order Item Profit Ratio        180519 non-null  float64\n",
      " 36  Order Item Quantity            180519 non-null  int64  \n",
      " 37  Sales                          180519 non-null  float64\n",
      " 38  Order Item Total               180519 non-null  float64\n",
      " 39  Order Profit Per Order         180519 non-null  float64\n",
      " 40  Order Region                   180519 non-null  object \n",
      " 41  Order State                    180519 non-null  object \n",
      " 42  Order Status                   180519 non-null  object \n",
      " 43  Order Zipcode                  24840 non-null   float64\n",
      " 44  Product Card Id                180519 non-null  int64  \n",
      " 45  Product Category Id            180519 non-null  int64  \n",
      " 46  Product Description            0 non-null       float64\n",
      " 47  Product Image                  180519 non-null  object \n",
      " 48  Product Name                   180519 non-null  object \n",
      " 49  Product Price                  180519 non-null  float64\n",
      " 50  Product Status                 180519 non-null  int64  \n",
      " 51  shipping date (DateOrders)     180519 non-null  object \n",
      " 52  Shipping Mode                  180519 non-null  object \n",
      "dtypes: float64(15), int64(14), object(24)\n",
      "memory usage: 73.0+ MB\n"
     ]
    }
   ],
   "source": [
    "dataset.info()"
   ]
  },
  {
   "cell_type": "markdown",
   "id": "ccb4118e",
   "metadata": {},
   "source": [
    "## ~ Data Preprocessing ~"
   ]
  },
  {
   "cell_type": "markdown",
   "id": "03db9048",
   "metadata": {},
   "source": [
    "Preprocessing Tasks:\n",
    "- Drop irrelevant columns\n",
    "- Drop rows with missing values\n",
    "- Create new features\n",
    "- Convert categorical features to numerical features"
   ]
  },
  {
   "cell_type": "markdown",
   "id": "a641d65d",
   "metadata": {},
   "source": [
    "### Drop Irrelevant Columns"
   ]
  },
  {
   "cell_type": "code",
   "execution_count": 4,
   "id": "d145bcc1",
   "metadata": {},
   "outputs": [
    {
     "name": "stdout",
     "output_type": "stream",
     "text": [
      "16 columns dropped successfully. Number of columns remaining: 37\n"
     ]
    }
   ],
   "source": [
    "def drop_columns(dataset, columns_to_drop):\n",
    "    dataset = dataset.drop(columns=columns_to_drop)\n",
    "    print(f\"{len(columns_to_drop)} columns dropped successfully. Number of columns remaining: {len(dataset.columns)}\")\n",
    "    return dataset\n",
    "\n",
    "columns_to_drop = ['Category Id', 'Customer Email', 'Customer Password', 'Customer Street', 'Customer Zipcode', 'Department Id',\n",
    "                  'Latitude', 'Longitude', 'Order Customer Id', 'Order Item Cardprod Id', 'Order Item Product Price', \n",
    "                  'Order Profit Per Order', 'Order Zipcode', 'Product Category Id', 'Product Description', 'Product Image']\n",
    "\n",
    "dataset = drop_columns(dataset, columns_to_drop)"
   ]
  },
  {
   "cell_type": "markdown",
   "id": "cf97a755",
   "metadata": {},
   "source": [
    "### Check for missing values"
   ]
  },
  {
   "cell_type": "code",
   "execution_count": 5,
   "id": "edb30c6a",
   "metadata": {},
   "outputs": [
    {
     "data": {
      "text/plain": [
       "Type                             0\n",
       "Days for shipping (real)         0\n",
       "Days for shipment (scheduled)    0\n",
       "Benefit per order                0\n",
       "Sales per customer               0\n",
       "Delivery Status                  0\n",
       "Late_delivery_risk               0\n",
       "Category Name                    0\n",
       "Customer City                    0\n",
       "Customer Country                 0\n",
       "Customer Fname                   0\n",
       "Customer Id                      0\n",
       "Customer Lname                   8\n",
       "Customer Segment                 0\n",
       "Customer State                   0\n",
       "Department Name                  0\n",
       "Market                           0\n",
       "Order City                       0\n",
       "Order Country                    0\n",
       "order date (DateOrders)          0\n",
       "Order Id                         0\n",
       "Order Item Discount              0\n",
       "Order Item Discount Rate         0\n",
       "Order Item Id                    0\n",
       "Order Item Profit Ratio          0\n",
       "Order Item Quantity              0\n",
       "Sales                            0\n",
       "Order Item Total                 0\n",
       "Order Region                     0\n",
       "Order State                      0\n",
       "Order Status                     0\n",
       "Product Card Id                  0\n",
       "Product Name                     0\n",
       "Product Price                    0\n",
       "Product Status                   0\n",
       "shipping date (DateOrders)       0\n",
       "Shipping Mode                    0\n",
       "dtype: int64"
      ]
     },
     "execution_count": 5,
     "metadata": {},
     "output_type": "execute_result"
    }
   ],
   "source": [
    "dataset.isnull().sum()"
   ]
  },
  {
   "cell_type": "markdown",
   "id": "f083d1b4",
   "metadata": {},
   "source": [
    "No null Values found. ✅"
   ]
  },
  {
   "cell_type": "markdown",
   "id": "c4999cab",
   "metadata": {},
   "source": [
    "### Create New Features\n",
    "The dataset contains a `order date` column which is a `DateTime` object from which we can extract `Month`, `Year`, `Day` and `Day of Week` that can be useful in our analysis i.e  Month, Year, Day & Day of Week"
   ]
  },
  {
   "cell_type": "code",
   "execution_count": 6,
   "id": "7c918e78",
   "metadata": {},
   "outputs": [
    {
     "name": "stdout",
     "output_type": "stream",
     "text": [
      "<class 'pandas.core.frame.DataFrame'>\n",
      "RangeIndex: 180519 entries, 0 to 180518\n",
      "Data columns (total 41 columns):\n",
      " #   Column                         Non-Null Count   Dtype         \n",
      "---  ------                         --------------   -----         \n",
      " 0   Type                           180519 non-null  object        \n",
      " 1   Days for shipping (real)       180519 non-null  int64         \n",
      " 2   Days for shipment (scheduled)  180519 non-null  int64         \n",
      " 3   Benefit per order              180519 non-null  float64       \n",
      " 4   Sales per customer             180519 non-null  float64       \n",
      " 5   Delivery Status                180519 non-null  object        \n",
      " 6   Late_delivery_risk             180519 non-null  int64         \n",
      " 7   Category Name                  180519 non-null  object        \n",
      " 8   Customer City                  180519 non-null  object        \n",
      " 9   Customer Country               180519 non-null  object        \n",
      " 10  Customer Fname                 180519 non-null  object        \n",
      " 11  Customer Id                    180519 non-null  int64         \n",
      " 12  Customer Lname                 180511 non-null  object        \n",
      " 13  Customer Segment               180519 non-null  object        \n",
      " 14  Customer State                 180519 non-null  object        \n",
      " 15  Department Name                180519 non-null  object        \n",
      " 16  Market                         180519 non-null  object        \n",
      " 17  Order City                     180519 non-null  object        \n",
      " 18  Order Country                  180519 non-null  object        \n",
      " 19  order date (DateOrders)        180519 non-null  datetime64[ns]\n",
      " 20  Order Id                       180519 non-null  int64         \n",
      " 21  Order Item Discount            180519 non-null  float64       \n",
      " 22  Order Item Discount Rate       180519 non-null  float64       \n",
      " 23  Order Item Id                  180519 non-null  int64         \n",
      " 24  Order Item Profit Ratio        180519 non-null  float64       \n",
      " 25  Order Item Quantity            180519 non-null  int64         \n",
      " 26  Sales                          180519 non-null  float64       \n",
      " 27  Order Item Total               180519 non-null  float64       \n",
      " 28  Order Region                   180519 non-null  object        \n",
      " 29  Order State                    180519 non-null  object        \n",
      " 30  Order Status                   180519 non-null  object        \n",
      " 31  Product Card Id                180519 non-null  int64         \n",
      " 32  Product Name                   180519 non-null  object        \n",
      " 33  Product Price                  180519 non-null  float64       \n",
      " 34  Product Status                 180519 non-null  int64         \n",
      " 35  shipping date (DateOrders)     180519 non-null  object        \n",
      " 36  Shipping Mode                  180519 non-null  object        \n",
      " 37  Order-Year                     180519 non-null  int64         \n",
      " 38  Order-Month                    180519 non-null  int64         \n",
      " 39  Order-day                      180519 non-null  int64         \n",
      " 40  Order-weekday                  180519 non-null  int64         \n",
      "dtypes: datetime64[ns](1), float64(8), int64(13), object(19)\n",
      "memory usage: 56.5+ MB\n"
     ]
    }
   ],
   "source": [
    "dataset[\"order date (DateOrders)\"] = pd.to_datetime(dataset[\"order date (DateOrders)\"])\n",
    "dataset['Order-Year'] = dataset['order date (DateOrders)'].dt.year\n",
    "dataset['Order-Month'] = dataset['order date (DateOrders)'].dt.month\n",
    "dataset['Order-day'] = dataset['order date (DateOrders)'].dt.day\n",
    "dataset['Order-weekday'] = dataset['order date (DateOrders)'].dt.weekday\n",
    "dataset.info()"
   ]
  },
  {
   "cell_type": "code",
   "execution_count": 7,
   "id": "e55c415f",
   "metadata": {},
   "outputs": [
    {
     "data": {
      "text/plain": [
       "(180519, 41)"
      ]
     },
     "execution_count": 7,
     "metadata": {},
     "output_type": "execute_result"
    }
   ],
   "source": [
    "dataset.shape"
   ]
  },
  {
   "cell_type": "markdown",
   "id": "34c585f4",
   "metadata": {},
   "source": [
    "### Data Encoding"
   ]
  },
  {
   "cell_type": "markdown",
   "id": "5c35376d",
   "metadata": {},
   "source": [
    "Categorical data presents challenges for analysis, particularly in machine learning applications where models typically require numerical inputs. To address this, techniques like `LabelEncoder` from `sklearn` are employed to convert categorical values (e.g., country names like UK, USA, France) into numerical representations. \n",
    "\n",
    "Additionally, `one-hot encoding` is utilized to transform categorical features into binary vectors, enhancing their compatibility with machine learning algorithms. By applying these transformations, we equip the data with the necessary format for robust analysis and modeling in future tasks."
   ]
  },
  {
   "cell_type": "code",
   "execution_count": 8,
   "id": "3ef7e188",
   "metadata": {},
   "outputs": [
    {
     "name": "stdout",
     "output_type": "stream",
     "text": [
      "Filtering and Encoding Dataset for Top Product ID: 365\n"
     ]
    }
   ],
   "source": [
    "# Identify the top selling product id\n",
    "top_product = dataset['Product Card Id'].value_counts().index[0]\n",
    "print(f\"Filtering and Encoding Dataset for Top Product ID: {top_product}\")  "
   ]
  },
  {
   "cell_type": "code",
   "execution_count": 9,
   "id": "9da4cdfb",
   "metadata": {},
   "outputs": [],
   "source": [
    "def encode(dataset, product_card_id, categorical_cols, columns_to_drop):\n",
    "    \"\"\"\n",
    "    This function prepares data for analysis and machine learning tasks by first filtering the DataFrame based \n",
    "    on a specified product card ID. \n",
    "    It then performs label encoding on categorical columns using LabelEncoder from sklearn, dropping specified \n",
    "    columns afterwards. \n",
    "    Additionally, it conducts one-hot encoding on the same categorical columns using pd.get_dummies(), and again \n",
    "    drops specified columns. \n",
    "    \n",
    "    Parameters:\n",
    "    data (pandas.DataFrame): The original DataFrame.\n",
    "    product_card_id (int): The product card ID to filter the DataFrame on.\n",
    "    categorical_cols (list of str): The names of the categorical columns to apply encoding to.\n",
    "    columns_to_drop (list of str): The names of the columns to drop from the DataFrame.\n",
    "\n",
    "    Returns:\n",
    "    label_encoded_df (pandas.DataFrame): The label encoded DataFrame for bivariate analysis.\n",
    "    one_hot_encoded_df (pandas.DataFrame): The one-hot encoded DataFrame for machine learning.\n",
    "    \"\"\"\n",
    "    #Copy is created to avoid modifying the original data\n",
    "    dataset_copy = dataset[dataset['Product Card Id'] == product_card_id].copy()\n",
    "    \n",
    "    #Label Encoding\n",
    "    label_encoder = LabelEncoder()\n",
    "    label_encoded = dataset_copy.copy()\n",
    "    for column in categorical_cols:\n",
    "        label_encoded[column] = label_encoder.fit_transform(label_encoded[column])\n",
    "    #Drop specified columns\n",
    "    label_encoded = label_encoded.drop(columns=columns_to_drop)\n",
    "    \n",
    "    #One-Hot Encoding\n",
    "    one_hot_encoded = pd.get_dummies(dataset_copy, columns=categorical_cols)\n",
    "    #Drop specified columns\n",
    "    one_hot_encoded = one_hot_encoded.drop(columns=columns_to_drop)\n",
    "    \n",
    "    print(\"Data Encoding successful. ✅\")\n",
    "    return label_encoded, one_hot_encoded  "
   ]
  },
  {
   "cell_type": "code",
   "execution_count": 10,
   "id": "fc08cce4",
   "metadata": {},
   "outputs": [
    {
     "name": "stdout",
     "output_type": "stream",
     "text": [
      "Data Encoding successful. ✅\n"
     ]
    }
   ],
   "source": [
    "# Use the function to prepare the data for bivariate analysis\n",
    "categorical_cols = ['Type', 'Customer Segment', \n",
    "                    'Delivery Status', \n",
    "                    'Customer City', \n",
    "                    'Market',\n",
    "                    'Shipping Mode']\n",
    "\n",
    "columns_to_drop = ['Category Name', 'Customer Fname','Customer Id',\n",
    "                   'Customer Lname', 'Customer State','Department Name',\n",
    "                   'Product Name','Order City','Order Country','Order Id',\n",
    "                   'Order Item Discount','Order Item Discount Rate',\n",
    "                   'Order Item Id','Order Item Profit Ratio',\n",
    "                   'Order Item Quantity', 'Order Item Total',\n",
    "                   'Order Region','Order State','Order Status',  \n",
    "                   'Days for shipment (scheduled)','Sales per customer',\n",
    "                   'Customer Country', 'shipping date (DateOrders)', \n",
    "                   'Product Card Id', 'Product Status', \n",
    "                   'Product Price']\n",
    "\n",
    "# drop columns and encode data for correlation martrix and Machine learning\n",
    "label_encoded_df, one_hot_encoded_df  = encode(dataset, top_product, categorical_cols, columns_to_drop)\n"
   ]
  },
  {
   "cell_type": "code",
   "execution_count": 11,
   "id": "eb10f951",
   "metadata": {},
   "outputs": [
    {
     "data": {
      "text/plain": [
       "Type                                 int32\n",
       "Days for shipping (real)             int64\n",
       "Benefit per order                  float64\n",
       "Delivery Status                      int32\n",
       "Late_delivery_risk                   int64\n",
       "Customer City                        int32\n",
       "Customer Segment                     int32\n",
       "Market                               int32\n",
       "order date (DateOrders)     datetime64[ns]\n",
       "Sales                              float64\n",
       "Shipping Mode                        int32\n",
       "Order-Year                           int64\n",
       "Order-Month                          int64\n",
       "Order-day                            int64\n",
       "Order-weekday                        int64\n",
       "dtype: object"
      ]
     },
     "execution_count": 11,
     "metadata": {},
     "output_type": "execute_result"
    }
   ],
   "source": [
    "label_encoded_df.dtypes"
   ]
  },
  {
   "cell_type": "code",
   "execution_count": 12,
   "id": "13a648d9",
   "metadata": {},
   "outputs": [
    {
     "data": {
      "text/plain": [
       "Days for shipping (real)                 int64\n",
       "Benefit per order                      float64\n",
       "Late_delivery_risk                       int64\n",
       "order date (DateOrders)         datetime64[ns]\n",
       "Sales                                  float64\n",
       "                                     ...      \n",
       "Market_USCA                              uint8\n",
       "Shipping Mode_First Class                uint8\n",
       "Shipping Mode_Same Day                   uint8\n",
       "Shipping Mode_Second Class               uint8\n",
       "Shipping Mode_Standard Class             uint8\n",
       "Length: 591, dtype: object"
      ]
     },
     "execution_count": 12,
     "metadata": {},
     "output_type": "execute_result"
    }
   ],
   "source": [
    "one_hot_encoded_df.dtypes"
   ]
  },
  {
   "cell_type": "markdown",
   "id": "dbc45f2f",
   "metadata": {},
   "source": [
    "### Data preprocessing done !! ✅\n",
    "The dataset is now ready for further analysis and modeling."
   ]
  },
  {
   "cell_type": "markdown",
   "id": "e5204799",
   "metadata": {},
   "source": [
    "## ~ Exploratory Data Visualizations ~"
   ]
  },
  {
   "cell_type": "markdown",
   "id": "0084c748",
   "metadata": {},
   "source": [
    "Lets highlight the distributions of the individual variables as well as the relationship between the variables and the target variables."
   ]
  },
  {
   "cell_type": "markdown",
   "id": "fd45e556",
   "metadata": {},
   "source": [
    "### Univariate Analysis"
   ]
  },
  {
   "cell_type": "code",
   "execution_count": 13,
   "id": "0d51c749",
   "metadata": {},
   "outputs": [
    {
     "data": {
      "image/png": "[encoded data removed]",
      "text/plain": [
       "<Figure size 800x800 with 4 Axes>"
      ]
     },
     "metadata": {},
     "output_type": "display_data"
    }
   ],
   "source": [
    "fig, axes = plt.subplots(nrows=2, ncols=2, figsize=(8,8))\n",
    "fig.suptitle('Distribution Plots for Selected Variables', fontsize=12)\n",
    "\n",
    "dataset_copy = dataset.copy()\n",
    "\n",
    "#Top 10 products as per the count\n",
    "sns.countplot(data=dataset_copy, x='Product Card Id', ax=axes[0, 0], \n",
    "                order=dataset_copy['Product Card Id'].value_counts().iloc[:10].index)\n",
    "axes[0, 0].set_title('Distribution of Top Ten Product Id')\n",
    "axes[0, 0].set_xlabel('Product Card Id')\n",
    "axes[0, 0].set_ylabel('Count')\n",
    "\n",
    "#Sales distribution\n",
    "sns.histplot(data=dataset_copy, x='Sales', bins=30, color='green', ax=axes[0, 1])\n",
    "axes[0, 1].set_title('Distribution of Sales')\n",
    "axes[0, 1].set_xlabel('Sales value in Dollars')\n",
    "axes[0, 1].set_ylabel('Frequency')\n",
    "\n",
    "#Sales per customer Distribution\n",
    "sns.histplot(data=dataset_copy, x='Sales per customer', bins=30, color='lightgreen', ax=axes[1, 0])\n",
    "axes[1, 0].set_title('Distribution of Sales per Customer')\n",
    "axes[1, 0].set_xlabel('Sales per Customer')\n",
    "axes[1, 0].set_ylabel('Frequency')\n",
    "\n",
    "#Product Price Distribution\n",
    "sns.histplot(data=dataset_copy, x='Product Price', bins=30, color='orange', ax=axes[1, 1])\n",
    "axes[1, 1].set_title('Distribution of Product Price')\n",
    "axes[1, 1].set_xlabel('Product Price')\n",
    "\n",
    "\n",
    "plt.tight_layout(rect=[0, 0.03, 1, 0.95])"
   ]
  },
  {
   "cell_type": "markdown",
   "id": "49151e28",
   "metadata": {},
   "source": [
    "From the visuals, we get to know that:\n",
    "\n",
    "The Top Selling Product ID is `365` which corresponds to a product name: `Perfect Fitness Perfect Rip Deck` this indicates a fast-moving product.\n",
    "\n",
    "The distribution of `Sales Value` and `Sales per customer` are both positively skewed with a long tail. This indicates that the majority of sales are for <b>low-value products</b>. This is an interesting insight because it may suggest that the majority of customers are price-sensitive.\n",
    "\n",
    "The distribution of `Product Price` is also positively skewed with a long tail. This means that the majority of products are low-value products."
   ]
  },
  {
   "cell_type": "markdown",
   "id": "7b418a3a",
   "metadata": {},
   "source": [
    "<b>NOTE</b>: Based on the insight from the univariate analysis, The rest of the analysis and forecasting will focus on the top-selling Product Card Id (365 ‘Perfect Fitness Perfect Rip Deck’)"
   ]
  },
  {
   "cell_type": "markdown",
   "id": "95d491fc",
   "metadata": {},
   "source": [
    "### Exploratory Time Series Visualization\n",
    "To understand the demand patterns of the top-selling product, let's create a time series lineplot to visualize the demand patterns of the top-selling product over time."
   ]
  },
  {
   "cell_type": "code",
   "execution_count": 14,
   "id": "5603fdc0",
   "metadata": {},
   "outputs": [
    {
     "data": {
      "image/png": "[encoded data removed]",
      "text/plain": [
       "<Figure size 1200x600 with 1 Axes>"
      ]
     },
     "metadata": {},
     "output_type": "display_data"
    }
   ],
   "source": [
    "df_lineplot = dataset[['order date (DateOrders)', 'Sales']]\n",
    "\n",
    "# Set 'order date (DateOrders)' as index\n",
    "df_lineplot.set_index('order date (DateOrders)', inplace=True)\n",
    "\n",
    "# Resample to monthly frequency and sum the sales\n",
    "monthly_sales = df_lineplot.resample('M').sum()\n",
    "\n",
    "# Plot the time series line plot\n",
    "plt.figure(figsize=(12, 6))\n",
    "plt.plot(monthly_sales.index, monthly_sales['Sales'], marker='o', linestyle='-')\n",
    "plt.title('Monthly Sales Trend of Top-Selling Product')\n",
    "plt.xlabel('Date')\n",
    "plt.ylabel('Sales')\n",
    "plt.grid(True)\n",
    "\n",
    "# Format the x-axis tick labels to display month and year\n",
    "plt.xticks(monthly_sales.index, [x.strftime('%b %Y') for x in monthly_sales.index], rotation=90)\n",
    "plt.show()"
   ]
  },
  {
   "cell_type": "markdown",
   "id": "8931ea67",
   "metadata": {},
   "source": [
    "The line plot reveals a consistent trend in the demand for the top-selling product over time. Notably, sales figures for the first quarters of `2015`, `2016`, and `2017` remained relatively stable. However, a significant drop in sales is observed during the first quarter of `2018`.\n",
    "<p>This is an interesting insight that we can explore further.</p>\n"
   ]
  },
  {
   "cell_type": "markdown",
   "id": "a0a6b5b4",
   "metadata": {},
   "source": [
    "## ~ Demand Forecasting with Prophet ~"
   ]
  },
  {
   "cell_type": "markdown",
   "id": "02540afc",
   "metadata": {},
   "source": [
    "Prophet is a procedure for forecasting time series data based on an additive model where non-linear trends are fit with yearly, weekly, and daily seasonality, plus holiday effects. Prophet is open source software released by Facebook's Core Data Science team.\n",
    "\n",
    "Let's dive into the process..."
   ]
  },
  {
   "cell_type": "code",
   "execution_count": 15,
   "id": "cf6da6af",
   "metadata": {},
   "outputs": [],
   "source": [
    "model_df = dataset.copy()\n",
    "model_df = model_df.rename(columns={'order date (DateOrders)': 'ds',\n",
    "                                    'Sales': 'y'})\n",
    "                           \n",
    "#Adding the Puerto Rico and US holidays \n",
    "holidays_df = pd.read_excel('US-PR-holidays.xlsx')\n",
    "holidays_df = holidays_df.rename(columns={'Date': 'ds',\n",
    "                                          'Name': 'holiday'})\n",
    "holidays_df['ds'] = pd.to_datetime(holidays_df['ds'])\n",
    "holidays_df = holidays_df.drop(columns=['Country', 'Year'])\n",
    "\n",
    "# Add 'lower_window' and 'upper_window' columns\n",
    "holidays_df['lower_window'] = 0\n",
    "holidays_df['upper_window'] = 1\n",
    "\n",
    "# model_df.plot(x='ds', y='y', figsize=(18,6))"
   ]
  },
  {
   "cell_type": "code",
   "execution_count": 16,
   "id": "83018c12",
   "metadata": {},
   "outputs": [],
   "source": [
    "model = Prophet(holidays=holidays_df)"
   ]
  },
  {
   "cell_type": "code",
   "execution_count": 17,
   "id": "e29f132a",
   "metadata": {},
   "outputs": [
    {
     "name": "stderr",
     "output_type": "stream",
     "text": [
      "10:54:12 - cmdstanpy - INFO - Chain [1] start processing\n",
      "11:01:26 - cmdstanpy - INFO - Chain [1] done processing\n"
     ]
    },
    {
     "data": {
      "text/plain": [
       "<prophet.forecaster.Prophet at 0x1df7859d180>"
      ]
     },
     "execution_count": 17,
     "metadata": {},
     "output_type": "execute_result"
    }
   ],
   "source": [
    "model.fit(model_df)"
   ]
  },
  {
   "cell_type": "code",
   "execution_count": 18,
   "id": "825d69d3",
   "metadata": {},
   "outputs": [
    {
     "data": {
      "text/html": [
       "<div>\n",
       "<style scoped>\n",
       "    .dataframe tbody tr th:only-of-type {\n",
       "        vertical-align: middle;\n",
       "    }\n",
       "\n",
       "    .dataframe tbody tr th {\n",
       "        vertical-align: top;\n",
       "    }\n",
       "\n",
       "    .dataframe thead th {\n",
       "        text-align: right;\n",
       "    }\n",
       "</style>\n",
       "<table border=\"1\" class=\"dataframe\">\n",
       "  <thead>\n",
       "    <tr style=\"text-align: right;\">\n",
       "      <th></th>\n",
       "      <th>ds</th>\n",
       "      <th>trend</th>\n",
       "      <th>yhat_lower</th>\n",
       "      <th>yhat_upper</th>\n",
       "      <th>trend_lower</th>\n",
       "      <th>trend_upper</th>\n",
       "      <th>Christmas Day</th>\n",
       "      <th>Christmas Day_lower</th>\n",
       "      <th>Christmas Day_upper</th>\n",
       "      <th>Christmas Day (observed)</th>\n",
       "      <th>...</th>\n",
       "      <th>weekly</th>\n",
       "      <th>weekly_lower</th>\n",
       "      <th>weekly_upper</th>\n",
       "      <th>yearly</th>\n",
       "      <th>yearly_lower</th>\n",
       "      <th>yearly_upper</th>\n",
       "      <th>multiplicative_terms</th>\n",
       "      <th>multiplicative_terms_lower</th>\n",
       "      <th>multiplicative_terms_upper</th>\n",
       "      <th>yhat</th>\n",
       "    </tr>\n",
       "  </thead>\n",
       "  <tbody>\n",
       "    <tr>\n",
       "      <th>0</th>\n",
       "      <td>2015-01-01 00:00:00</td>\n",
       "      <td>197.366412</td>\n",
       "      <td>51.790822</td>\n",
       "      <td>400.199124</td>\n",
       "      <td>197.366412</td>\n",
       "      <td>197.366412</td>\n",
       "      <td>0.0</td>\n",
       "      <td>0.0</td>\n",
       "      <td>0.0</td>\n",
       "      <td>0.0</td>\n",
       "      <td>...</td>\n",
       "      <td>-3.816998</td>\n",
       "      <td>-3.816998</td>\n",
       "      <td>-3.816998</td>\n",
       "      <td>27.668841</td>\n",
       "      <td>27.668841</td>\n",
       "      <td>27.668841</td>\n",
       "      <td>0.0</td>\n",
       "      <td>0.0</td>\n",
       "      <td>0.0</td>\n",
       "      <td>226.962717</td>\n",
       "    </tr>\n",
       "    <tr>\n",
       "      <th>1</th>\n",
       "      <td>2015-01-01 00:21:00</td>\n",
       "      <td>197.382816</td>\n",
       "      <td>62.219956</td>\n",
       "      <td>392.497819</td>\n",
       "      <td>197.382816</td>\n",
       "      <td>197.382816</td>\n",
       "      <td>0.0</td>\n",
       "      <td>0.0</td>\n",
       "      <td>0.0</td>\n",
       "      <td>0.0</td>\n",
       "      <td>...</td>\n",
       "      <td>-3.717140</td>\n",
       "      <td>-3.717140</td>\n",
       "      <td>-3.717140</td>\n",
       "      <td>27.633743</td>\n",
       "      <td>27.633743</td>\n",
       "      <td>27.633743</td>\n",
       "      <td>0.0</td>\n",
       "      <td>0.0</td>\n",
       "      <td>0.0</td>\n",
       "      <td>227.138031</td>\n",
       "    </tr>\n",
       "    <tr>\n",
       "      <th>2</th>\n",
       "      <td>2015-01-01 01:03:00</td>\n",
       "      <td>197.415623</td>\n",
       "      <td>57.469556</td>\n",
       "      <td>403.502169</td>\n",
       "      <td>197.415623</td>\n",
       "      <td>197.415623</td>\n",
       "      <td>0.0</td>\n",
       "      <td>0.0</td>\n",
       "      <td>0.0</td>\n",
       "      <td>0.0</td>\n",
       "      <td>...</td>\n",
       "      <td>-3.514738</td>\n",
       "      <td>-3.514738</td>\n",
       "      <td>-3.514738</td>\n",
       "      <td>27.563338</td>\n",
       "      <td>27.563338</td>\n",
       "      <td>27.563338</td>\n",
       "      <td>0.0</td>\n",
       "      <td>0.0</td>\n",
       "      <td>0.0</td>\n",
       "      <td>227.657173</td>\n",
       "    </tr>\n",
       "    <tr>\n",
       "      <th>3</th>\n",
       "      <td>2015-01-01 01:24:00</td>\n",
       "      <td>197.432026</td>\n",
       "      <td>53.312494</td>\n",
       "      <td>388.011713</td>\n",
       "      <td>197.432026</td>\n",
       "      <td>197.432026</td>\n",
       "      <td>0.0</td>\n",
       "      <td>0.0</td>\n",
       "      <td>0.0</td>\n",
       "      <td>0.0</td>\n",
       "      <td>...</td>\n",
       "      <td>-3.412440</td>\n",
       "      <td>-3.412440</td>\n",
       "      <td>-3.412440</td>\n",
       "      <td>27.528030</td>\n",
       "      <td>27.528030</td>\n",
       "      <td>27.528030</td>\n",
       "      <td>0.0</td>\n",
       "      <td>0.0</td>\n",
       "      <td>0.0</td>\n",
       "      <td>227.970792</td>\n",
       "    </tr>\n",
       "    <tr>\n",
       "      <th>4</th>\n",
       "      <td>2015-01-01 02:06:00</td>\n",
       "      <td>197.464833</td>\n",
       "      <td>51.282017</td>\n",
       "      <td>386.235970</td>\n",
       "      <td>197.464833</td>\n",
       "      <td>197.464833</td>\n",
       "      <td>0.0</td>\n",
       "      <td>0.0</td>\n",
       "      <td>0.0</td>\n",
       "      <td>0.0</td>\n",
       "      <td>...</td>\n",
       "      <td>-3.206260</td>\n",
       "      <td>-3.206260</td>\n",
       "      <td>-3.206260</td>\n",
       "      <td>27.457206</td>\n",
       "      <td>27.457206</td>\n",
       "      <td>27.457206</td>\n",
       "      <td>0.0</td>\n",
       "      <td>0.0</td>\n",
       "      <td>0.0</td>\n",
       "      <td>228.601498</td>\n",
       "    </tr>\n",
       "    <tr>\n",
       "      <th>...</th>\n",
       "      <td>...</td>\n",
       "      <td>...</td>\n",
       "      <td>...</td>\n",
       "      <td>...</td>\n",
       "      <td>...</td>\n",
       "      <td>...</td>\n",
       "      <td>...</td>\n",
       "      <td>...</td>\n",
       "      <td>...</td>\n",
       "      <td>...</td>\n",
       "      <td>...</td>\n",
       "      <td>...</td>\n",
       "      <td>...</td>\n",
       "      <td>...</td>\n",
       "      <td>...</td>\n",
       "      <td>...</td>\n",
       "      <td>...</td>\n",
       "      <td>...</td>\n",
       "      <td>...</td>\n",
       "      <td>...</td>\n",
       "      <td>...</td>\n",
       "    </tr>\n",
       "    <tr>\n",
       "      <th>66112</th>\n",
       "      <td>2019-11-27 23:51:00</td>\n",
       "      <td>134.050946</td>\n",
       "      <td>-785.117278</td>\n",
       "      <td>1075.005501</td>\n",
       "      <td>-830.384713</td>\n",
       "      <td>1040.272622</td>\n",
       "      <td>0.0</td>\n",
       "      <td>0.0</td>\n",
       "      <td>0.0</td>\n",
       "      <td>0.0</td>\n",
       "      <td>...</td>\n",
       "      <td>-3.859477</td>\n",
       "      <td>-3.859477</td>\n",
       "      <td>-3.859477</td>\n",
       "      <td>61.675660</td>\n",
       "      <td>61.675660</td>\n",
       "      <td>61.675660</td>\n",
       "      <td>0.0</td>\n",
       "      <td>0.0</td>\n",
       "      <td>0.0</td>\n",
       "      <td>190.590955</td>\n",
       "    </tr>\n",
       "    <tr>\n",
       "      <th>66113</th>\n",
       "      <td>2019-11-28 23:51:00</td>\n",
       "      <td>133.937509</td>\n",
       "      <td>-782.514448</td>\n",
       "      <td>1097.602085</td>\n",
       "      <td>-835.936451</td>\n",
       "      <td>1042.611271</td>\n",
       "      <td>0.0</td>\n",
       "      <td>0.0</td>\n",
       "      <td>0.0</td>\n",
       "      <td>0.0</td>\n",
       "      <td>...</td>\n",
       "      <td>0.576117</td>\n",
       "      <td>0.576117</td>\n",
       "      <td>0.576117</td>\n",
       "      <td>58.434116</td>\n",
       "      <td>58.434116</td>\n",
       "      <td>58.434116</td>\n",
       "      <td>0.0</td>\n",
       "      <td>0.0</td>\n",
       "      <td>0.0</td>\n",
       "      <td>191.671568</td>\n",
       "    </tr>\n",
       "    <tr>\n",
       "      <th>66114</th>\n",
       "      <td>2019-11-29 23:51:00</td>\n",
       "      <td>133.824072</td>\n",
       "      <td>-819.899536</td>\n",
       "      <td>1103.403428</td>\n",
       "      <td>-841.488189</td>\n",
       "      <td>1047.016302</td>\n",
       "      <td>0.0</td>\n",
       "      <td>0.0</td>\n",
       "      <td>0.0</td>\n",
       "      <td>0.0</td>\n",
       "      <td>...</td>\n",
       "      <td>1.749998</td>\n",
       "      <td>1.749998</td>\n",
       "      <td>1.749998</td>\n",
       "      <td>55.346200</td>\n",
       "      <td>55.346200</td>\n",
       "      <td>55.346200</td>\n",
       "      <td>0.0</td>\n",
       "      <td>0.0</td>\n",
       "      <td>0.0</td>\n",
       "      <td>189.644097</td>\n",
       "    </tr>\n",
       "    <tr>\n",
       "      <th>66115</th>\n",
       "      <td>2019-11-30 23:51:00</td>\n",
       "      <td>133.710636</td>\n",
       "      <td>-832.782920</td>\n",
       "      <td>1098.283019</td>\n",
       "      <td>-847.039927</td>\n",
       "      <td>1049.568553</td>\n",
       "      <td>0.0</td>\n",
       "      <td>0.0</td>\n",
       "      <td>0.0</td>\n",
       "      <td>0.0</td>\n",
       "      <td>...</td>\n",
       "      <td>4.135425</td>\n",
       "      <td>4.135425</td>\n",
       "      <td>4.135425</td>\n",
       "      <td>52.423504</td>\n",
       "      <td>52.423504</td>\n",
       "      <td>52.423504</td>\n",
       "      <td>0.0</td>\n",
       "      <td>0.0</td>\n",
       "      <td>0.0</td>\n",
       "      <td>188.993391</td>\n",
       "    </tr>\n",
       "    <tr>\n",
       "      <th>66116</th>\n",
       "      <td>2019-12-01 23:51:00</td>\n",
       "      <td>133.597199</td>\n",
       "      <td>-821.310414</td>\n",
       "      <td>1080.376365</td>\n",
       "      <td>-852.591665</td>\n",
       "      <td>1051.771802</td>\n",
       "      <td>0.0</td>\n",
       "      <td>0.0</td>\n",
       "      <td>0.0</td>\n",
       "      <td>0.0</td>\n",
       "      <td>...</td>\n",
       "      <td>-0.798910</td>\n",
       "      <td>-0.798910</td>\n",
       "      <td>-0.798910</td>\n",
       "      <td>49.678023</td>\n",
       "      <td>49.678023</td>\n",
       "      <td>49.678023</td>\n",
       "      <td>0.0</td>\n",
       "      <td>0.0</td>\n",
       "      <td>0.0</td>\n",
       "      <td>181.200138</td>\n",
       "    </tr>\n",
       "  </tbody>\n",
       "</table>\n",
       "<p>66117 rows × 88 columns</p>\n",
       "</div>"
      ],
      "text/plain": [
       "                       ds       trend  yhat_lower   yhat_upper  trend_lower  \\\n",
       "0     2015-01-01 00:00:00  197.366412   51.790822   400.199124   197.366412   \n",
       "1     2015-01-01 00:21:00  197.382816   62.219956   392.497819   197.382816   \n",
       "2     2015-01-01 01:03:00  197.415623   57.469556   403.502169   197.415623   \n",
       "3     2015-01-01 01:24:00  197.432026   53.312494   388.011713   197.432026   \n",
       "4     2015-01-01 02:06:00  197.464833   51.282017   386.235970   197.464833   \n",
       "...                   ...         ...         ...          ...          ...   \n",
       "66112 2019-11-27 23:51:00  134.050946 -785.117278  1075.005501  -830.384713   \n",
       "66113 2019-11-28 23:51:00  133.937509 -782.514448  1097.602085  -835.936451   \n",
       "66114 2019-11-29 23:51:00  133.824072 -819.899536  1103.403428  -841.488189   \n",
       "66115 2019-11-30 23:51:00  133.710636 -832.782920  1098.283019  -847.039927   \n",
       "66116 2019-12-01 23:51:00  133.597199 -821.310414  1080.376365  -852.591665   \n",
       "\n",
       "       trend_upper  Christmas Day  Christmas Day_lower  Christmas Day_upper  \\\n",
       "0       197.366412            0.0                  0.0                  0.0   \n",
       "1       197.382816            0.0                  0.0                  0.0   \n",
       "2       197.415623            0.0                  0.0                  0.0   \n",
       "3       197.432026            0.0                  0.0                  0.0   \n",
       "4       197.464833            0.0                  0.0                  0.0   \n",
       "...            ...            ...                  ...                  ...   \n",
       "66112  1040.272622            0.0                  0.0                  0.0   \n",
       "66113  1042.611271            0.0                  0.0                  0.0   \n",
       "66114  1047.016302            0.0                  0.0                  0.0   \n",
       "66115  1049.568553            0.0                  0.0                  0.0   \n",
       "66116  1051.771802            0.0                  0.0                  0.0   \n",
       "\n",
       "       Christmas Day (observed)  ...    weekly  weekly_lower  weekly_upper  \\\n",
       "0                           0.0  ... -3.816998     -3.816998     -3.816998   \n",
       "1                           0.0  ... -3.717140     -3.717140     -3.717140   \n",
       "2                           0.0  ... -3.514738     -3.514738     -3.514738   \n",
       "3                           0.0  ... -3.412440     -3.412440     -3.412440   \n",
       "4                           0.0  ... -3.206260     -3.206260     -3.206260   \n",
       "...                         ...  ...       ...           ...           ...   \n",
       "66112                       0.0  ... -3.859477     -3.859477     -3.859477   \n",
       "66113                       0.0  ...  0.576117      0.576117      0.576117   \n",
       "66114                       0.0  ...  1.749998      1.749998      1.749998   \n",
       "66115                       0.0  ...  4.135425      4.135425      4.135425   \n",
       "66116                       0.0  ... -0.798910     -0.798910     -0.798910   \n",
       "\n",
       "          yearly  yearly_lower  yearly_upper  multiplicative_terms  \\\n",
       "0      27.668841     27.668841     27.668841                   0.0   \n",
       "1      27.633743     27.633743     27.633743                   0.0   \n",
       "2      27.563338     27.563338     27.563338                   0.0   \n",
       "3      27.528030     27.528030     27.528030                   0.0   \n",
       "4      27.457206     27.457206     27.457206                   0.0   \n",
       "...          ...           ...           ...                   ...   \n",
       "66112  61.675660     61.675660     61.675660                   0.0   \n",
       "66113  58.434116     58.434116     58.434116                   0.0   \n",
       "66114  55.346200     55.346200     55.346200                   0.0   \n",
       "66115  52.423504     52.423504     52.423504                   0.0   \n",
       "66116  49.678023     49.678023     49.678023                   0.0   \n",
       "\n",
       "       multiplicative_terms_lower  multiplicative_terms_upper        yhat  \n",
       "0                             0.0                         0.0  226.962717  \n",
       "1                             0.0                         0.0  227.138031  \n",
       "2                             0.0                         0.0  227.657173  \n",
       "3                             0.0                         0.0  227.970792  \n",
       "4                             0.0                         0.0  228.601498  \n",
       "...                           ...                         ...         ...  \n",
       "66112                         0.0                         0.0  190.590955  \n",
       "66113                         0.0                         0.0  191.671568  \n",
       "66114                         0.0                         0.0  189.644097  \n",
       "66115                         0.0                         0.0  188.993391  \n",
       "66116                         0.0                         0.0  181.200138  \n",
       "\n",
       "[66117 rows x 88 columns]"
      ]
     },
     "execution_count": 18,
     "metadata": {},
     "output_type": "execute_result"
    }
   ],
   "source": [
    "#DataFrame with future dates for forecasting\n",
    "future = model.make_future_dataframe(periods=365, freq='D')\n",
    "forecast = model.predict(future) \n",
    "forecast"
   ]
  },
  {
   "cell_type": "code",
   "execution_count": 19,
   "id": "feea8d43",
   "metadata": {},
   "outputs": [
    {
     "data": {
      "text/plain": [
       "Index(['ds', 'trend', 'yhat_lower', 'yhat_upper', 'trend_lower', 'trend_upper',\n",
       "       'Christmas Day', 'Christmas Day_lower', 'Christmas Day_upper',\n",
       "       'Christmas Day (observed)', 'Christmas Day (observed)_lower',\n",
       "       'Christmas Day (observed)_upper', 'Columbus Day', 'Columbus Day_lower',\n",
       "       'Columbus Day_upper', 'Constitution Day', 'Constitution Day_lower',\n",
       "       'Constitution Day_upper', 'Discovery Day', 'Discovery Day_lower',\n",
       "       'Discovery Day_upper', 'Discovery Day (observed)',\n",
       "       'Discovery Day (observed)_lower', 'Discovery Day (observed)_upper',\n",
       "       'Emancipation Day', 'Emancipation Day_lower', 'Emancipation Day_upper',\n",
       "       'Emancipation Day (observed)', 'Emancipation Day (observed)_lower',\n",
       "       'Emancipation Day (observed)_upper', 'Epiphany', 'Epiphany_lower',\n",
       "       'Epiphany_upper', 'Good Friday', 'Good Friday_lower',\n",
       "       'Good Friday_upper', 'Independence Day', 'Independence Day_lower',\n",
       "       'Independence Day_upper', 'Independence Day (observed)',\n",
       "       'Independence Day (observed)_lower',\n",
       "       'Independence Day (observed)_upper', 'Labor Day', 'Labor Day_lower',\n",
       "       'Labor Day_upper', 'Martin Luther King Jr. Day',\n",
       "       'Martin Luther King Jr. Day_lower', 'Martin Luther King Jr. Day_upper',\n",
       "       'Memorial Day', 'Memorial Day_lower', 'Memorial Day_upper',\n",
       "       'New Year's Day', 'New Year's Day_lower', 'New Year's Day_upper',\n",
       "       'New Year's Day (observed)', 'New Year's Day (observed)_lower',\n",
       "       'New Year's Day (observed)_upper', 'Thanksgiving', 'Thanksgiving_lower',\n",
       "       'Thanksgiving_upper', 'Veterans Day', 'Veterans Day_lower',\n",
       "       'Veterans Day_upper', 'Veterans Day (observed)',\n",
       "       'Veterans Day (observed)_lower', 'Veterans Day (observed)_upper',\n",
       "       'Washington's Birthday', 'Washington's Birthday_lower',\n",
       "       'Washington's Birthday_upper', 'additive_terms', 'additive_terms_lower',\n",
       "       'additive_terms_upper', 'daily', 'daily_lower', 'daily_upper',\n",
       "       'holidays', 'holidays_lower', 'holidays_upper', 'weekly',\n",
       "       'weekly_lower', 'weekly_upper', 'yearly', 'yearly_lower',\n",
       "       'yearly_upper', 'multiplicative_terms', 'multiplicative_terms_lower',\n",
       "       'multiplicative_terms_upper', 'yhat'],\n",
       "      dtype='object')"
      ]
     },
     "execution_count": 19,
     "metadata": {},
     "output_type": "execute_result"
    }
   ],
   "source": [
    "forecast.columns "
   ]
  },
  {
   "cell_type": "code",
   "execution_count": 20,
   "id": "78391026",
   "metadata": {},
   "outputs": [
    {
     "data": {
      "image/png": "[encoded data removed]",
      "text/plain": [
       "<Figure size 1600x600 with 1 Axes>"
      ]
     },
     "metadata": {},
     "output_type": "display_data"
    }
   ],
   "source": [
    "plt.figure(figsize=(16, 6))\n",
    "plt.plot(forecast['ds'], forecast['yhat'], linestyle='-')\n",
    "plt.xlabel('Date')\n",
    "plt.ylabel('yhat')\n",
    "plt.grid(True)"
   ]
  },
  {
   "cell_type": "markdown",
   "id": "2f724441",
   "metadata": {},
   "source": [
    "The code above uses the Prophet library to model the demand for the top-selling product. The model is trained on the `Sales` and `Order Date Columns`. The model is then used to forecast the demand for the top-selling product over the next 365 days.\n",
    "\n",
    "The code also included holidays of the 2 countries (US, PR) to account for the impact of holidays on the demand for the top-selling product. This is important because holidays can have a significant impact on demand patterns.\n",
    "\n",
    "The forecast variable now contains the forecasted values for the top-selling product. We will work with it later but for now, let’s first evaluate the accuracy of our prophet model"
   ]
  },
  {
   "cell_type": "markdown",
   "id": "7fe30be9",
   "metadata": {},
   "source": [
    "### Evaluating the Accuracy of the Time Series Forecast"
   ]
  },
  {
   "cell_type": "markdown",
   "id": "cfc8ac9a",
   "metadata": {},
   "source": [
    "To determine the accuracy of the prophet model, we will use the `cross_validationa()` function provided by `Prophet`"
   ]
  },
  {
   "cell_type": "code",
   "execution_count": 21,
   "id": "10531fca",
   "metadata": {},
   "outputs": [],
   "source": [
    "from prophet.diagnostics import cross_validation, performance_metrics"
   ]
  },
  {
   "cell_type": "code",
   "execution_count": 22,
   "id": "ac829e49",
   "metadata": {},
   "outputs": [
    {
     "data": {
      "application/vnd.jupyter.widget-view+json": {
       "model_id": "ec87b5be20dd4457bcc1ca22a1832aaa",
       "version_major": 2,
       "version_minor": 0
      },
      "text/plain": [
       "  0%|          | 0/1 [00:00<?, ?it/s]"
      ]
     },
     "metadata": {},
     "output_type": "display_data"
    },
    {
     "name": "stderr",
     "output_type": "stream",
     "text": [
      "11:09:11 - cmdstanpy - INFO - Chain [1] start processing\n",
      "11:16:31 - cmdstanpy - INFO - Chain [1] done processing\n"
     ]
    }
   ],
   "source": [
    "cv = cross_validation(model=model, initial='730 days', \n",
    "                      period='365 days', horizon='365 days')"
   ]
  },
  {
   "cell_type": "markdown",
   "id": "4d4b0163",
   "metadata": {},
   "source": [
    "The `cross_validation()` function performs cross-validation on the model. It trains the model on a subset of the data and then evaluates the model on the remaining data. This is a good way to evaluate the accuracy of the model.\n",
    "\n",
    "The `initial` parameter specifies the size of the training set i.e. the model will be trained on the data from the first 730 days. \n",
    "\n",
    "The `period` parameter specifies the frequency of the forecast i.e.  a new evaluation window will start every 365 days. \n",
    "\n",
    "The `horizon` parameter sets the forecast horizon for each evaluation period. Here, it's specified as 365 days, meaning the model will make forecasts for the next 365 days in each evaluation period."
   ]
  },
  {
   "cell_type": "markdown",
   "id": "2a6f7cce",
   "metadata": {},
   "source": [
    "Let’s visualize the performance of the model. The `performance_metrics` function in the Prophet library calculates the below metrics for the cross-validated forecasts:\n",
    "\n",
    "- `MSE`: Mean Square Error\n",
    "- `RMSE`: Root Mean Square Error\n",
    "- `MAE`: Mean Absolute Error\n",
    "- `MAPE`: Mean Absolute Percentage Error\n",
    "- `MDAPE`: Median Absolute Percentage Error\n",
    "- `SMAPE`: Symmetric mean absolute percentage error"
   ]
  },
  {
   "cell_type": "code",
   "execution_count": 34,
   "id": "7e7fcf03",
   "metadata": {},
   "outputs": [
    {
     "data": {
      "text/html": [
       "<div>\n",
       "<style scoped>\n",
       "    .dataframe tbody tr th:only-of-type {\n",
       "        vertical-align: middle;\n",
       "    }\n",
       "\n",
       "    .dataframe tbody tr th {\n",
       "        vertical-align: top;\n",
       "    }\n",
       "\n",
       "    .dataframe thead th {\n",
       "        text-align: right;\n",
       "    }\n",
       "</style>\n",
       "<table border=\"1\" class=\"dataframe\">\n",
       "  <thead>\n",
       "    <tr style=\"text-align: right;\">\n",
       "      <th></th>\n",
       "      <th>horizon</th>\n",
       "      <th>mse</th>\n",
       "      <th>rmse</th>\n",
       "      <th>mae</th>\n",
       "      <th>mape</th>\n",
       "      <th>mdape</th>\n",
       "      <th>smape</th>\n",
       "      <th>coverage</th>\n",
       "    </tr>\n",
       "  </thead>\n",
       "  <tbody>\n",
       "    <tr>\n",
       "      <th>0</th>\n",
       "      <td>0 days 00:17:00</td>\n",
       "      <td>18382.062534</td>\n",
       "      <td>135.580465</td>\n",
       "      <td>135.580465</td>\n",
       "      <td>1.043007</td>\n",
       "      <td>1.043007</td>\n",
       "      <td>0.685511</td>\n",
       "      <td>1.0</td>\n",
       "    </tr>\n",
       "    <tr>\n",
       "      <th>1</th>\n",
       "      <td>0 days 00:38:00</td>\n",
       "      <td>1178.396595</td>\n",
       "      <td>34.327782</td>\n",
       "      <td>34.327782</td>\n",
       "      <td>0.114434</td>\n",
       "      <td>0.114434</td>\n",
       "      <td>0.121378</td>\n",
       "      <td>1.0</td>\n",
       "    </tr>\n",
       "    <tr>\n",
       "      <th>2</th>\n",
       "      <td>0 days 00:59:00</td>\n",
       "      <td>50989.704674</td>\n",
       "      <td>225.809000</td>\n",
       "      <td>225.809000</td>\n",
       "      <td>5.646636</td>\n",
       "      <td>5.646636</td>\n",
       "      <td>1.476894</td>\n",
       "      <td>0.0</td>\n",
       "    </tr>\n",
       "    <tr>\n",
       "      <th>3</th>\n",
       "      <td>0 days 01:20:00</td>\n",
       "      <td>13600.247693</td>\n",
       "      <td>116.620100</td>\n",
       "      <td>111.991921</td>\n",
       "      <td>0.570423</td>\n",
       "      <td>0.334944</td>\n",
       "      <td>0.457513</td>\n",
       "      <td>1.0</td>\n",
       "    </tr>\n",
       "    <tr>\n",
       "      <th>4</th>\n",
       "      <td>0 days 01:41:00</td>\n",
       "      <td>24516.042797</td>\n",
       "      <td>156.575997</td>\n",
       "      <td>156.256017</td>\n",
       "      <td>1.441169</td>\n",
       "      <td>1.441169</td>\n",
       "      <td>0.832742</td>\n",
       "      <td>0.5</td>\n",
       "    </tr>\n",
       "    <tr>\n",
       "      <th>...</th>\n",
       "      <td>...</td>\n",
       "      <td>...</td>\n",
       "      <td>...</td>\n",
       "      <td>...</td>\n",
       "      <td>...</td>\n",
       "      <td>...</td>\n",
       "      <td>...</td>\n",
       "      <td>...</td>\n",
       "    </tr>\n",
       "    <tr>\n",
       "      <th>4072</th>\n",
       "      <td>364 days 22:36:00</td>\n",
       "      <td>28657.028975</td>\n",
       "      <td>169.283871</td>\n",
       "      <td>169.283871</td>\n",
       "      <td>0.516503</td>\n",
       "      <td>0.516503</td>\n",
       "      <td>0.696332</td>\n",
       "      <td>1.0</td>\n",
       "    </tr>\n",
       "    <tr>\n",
       "      <th>4073</th>\n",
       "      <td>364 days 22:57:00</td>\n",
       "      <td>28734.641192</td>\n",
       "      <td>169.512953</td>\n",
       "      <td>169.512953</td>\n",
       "      <td>0.517202</td>\n",
       "      <td>0.517202</td>\n",
       "      <td>0.697603</td>\n",
       "      <td>1.0</td>\n",
       "    </tr>\n",
       "    <tr>\n",
       "      <th>4074</th>\n",
       "      <td>364 days 23:18:00</td>\n",
       "      <td>28804.271255</td>\n",
       "      <td>169.718211</td>\n",
       "      <td>169.718211</td>\n",
       "      <td>0.517828</td>\n",
       "      <td>0.517828</td>\n",
       "      <td>0.698743</td>\n",
       "      <td>1.0</td>\n",
       "    </tr>\n",
       "    <tr>\n",
       "      <th>4075</th>\n",
       "      <td>364 days 23:39:00</td>\n",
       "      <td>28859.032095</td>\n",
       "      <td>169.879463</td>\n",
       "      <td>169.879463</td>\n",
       "      <td>0.518320</td>\n",
       "      <td>0.518320</td>\n",
       "      <td>0.699639</td>\n",
       "      <td>1.0</td>\n",
       "    </tr>\n",
       "    <tr>\n",
       "      <th>4076</th>\n",
       "      <td>365 days 00:00:00</td>\n",
       "      <td>28893.525926</td>\n",
       "      <td>169.980958</td>\n",
       "      <td>169.980958</td>\n",
       "      <td>0.518630</td>\n",
       "      <td>0.518630</td>\n",
       "      <td>0.700203</td>\n",
       "      <td>1.0</td>\n",
       "    </tr>\n",
       "  </tbody>\n",
       "</table>\n",
       "<p>4077 rows × 8 columns</p>\n",
       "</div>"
      ],
      "text/plain": [
       "               horizon           mse        rmse         mae      mape  \\\n",
       "0      0 days 00:17:00  18382.062534  135.580465  135.580465  1.043007   \n",
       "1      0 days 00:38:00   1178.396595   34.327782   34.327782  0.114434   \n",
       "2      0 days 00:59:00  50989.704674  225.809000  225.809000  5.646636   \n",
       "3      0 days 01:20:00  13600.247693  116.620100  111.991921  0.570423   \n",
       "4      0 days 01:41:00  24516.042797  156.575997  156.256017  1.441169   \n",
       "...                ...           ...         ...         ...       ...   \n",
       "4072 364 days 22:36:00  28657.028975  169.283871  169.283871  0.516503   \n",
       "4073 364 days 22:57:00  28734.641192  169.512953  169.512953  0.517202   \n",
       "4074 364 days 23:18:00  28804.271255  169.718211  169.718211  0.517828   \n",
       "4075 364 days 23:39:00  28859.032095  169.879463  169.879463  0.518320   \n",
       "4076 365 days 00:00:00  28893.525926  169.980958  169.980958  0.518630   \n",
       "\n",
       "         mdape     smape  coverage  \n",
       "0     1.043007  0.685511       1.0  \n",
       "1     0.114434  0.121378       1.0  \n",
       "2     5.646636  1.476894       0.0  \n",
       "3     0.334944  0.457513       1.0  \n",
       "4     1.441169  0.832742       0.5  \n",
       "...        ...       ...       ...  \n",
       "4072  0.516503  0.696332       1.0  \n",
       "4073  0.517202  0.697603       1.0  \n",
       "4074  0.517828  0.698743       1.0  \n",
       "4075  0.518320  0.699639       1.0  \n",
       "4076  0.518630  0.700203       1.0  \n",
       "\n",
       "[4077 rows x 8 columns]"
      ]
     },
     "execution_count": 34,
     "metadata": {},
     "output_type": "execute_result"
    }
   ],
   "source": [
    "performance_metrics(cv, rolling_window=0)"
   ]
  },
  {
   "cell_type": "code",
   "execution_count": 23,
   "id": "f4b13059",
   "metadata": {},
   "outputs": [],
   "source": [
    "from prophet.plot import plot_cross_validation_metric"
   ]
  },
  {
   "cell_type": "code",
   "execution_count": 54,
   "id": "9beeefcf",
   "metadata": {},
   "outputs": [
    {
     "data": {
      "image/png": "[encoded data removed]",
      "text/plain": [
       "<Figure size 1200x800 with 4 Axes>"
      ]
     },
     "metadata": {},
     "output_type": "display_data"
    }
   ],
   "source": [
    "import matplotlib.pyplot as plt\n",
    "\n",
    "# List of metrics to plot\n",
    "metrics = ['mse', 'rmse', 'mae', 'mape']\n",
    "\n",
    "# Create subplots\n",
    "fig, axes = plt.subplots(nrows=2, ncols=2, figsize=(12, 8))\n",
    "\n",
    "# Iterate over each metric and plot\n",
    "for i, metric in enumerate(metrics):\n",
    "    row = i // 2\n",
    "    col = i % 2\n",
    "    \n",
    "    # Plot the metric\n",
    "    plot = plot_cross_validation_metric(cv, metric=metric, ax=axes[row, col])\n",
    "\n",
    "    # Set title\n",
    "    axes[row, col].set_title(metric.upper())\n",
    "\n",
    "# Adjust layout\n",
    "plt.tight_layout()\n",
    "plt.show()\n"
   ]
  },
  {
   "cell_type": "markdown",
   "id": "2c8b104e",
   "metadata": {},
   "source": [
    "The forecast has a little high values for all the metrics (`MAPE, MAE, MSE, RMSE`) for horizons within around 60-day range however the accuracy remains nearly constant for horizons beyond 60 days. This suggests that the model is making more errors at periods beyond 250 days.\n",
    "\n",
    "This suggest that the accuracy of your forecasts show more errors for shorter-term predictions. However, if the accuracy remains consistently low beyond 80 days, it indicates that the model has learned the underlying patterns and trends well from the historical data and can make reliable long-term forecasts.\n",
    "\n",
    "The model will be most useful to stakeholders if it can forecast demand beyond 60 days with a lower percentage of errors. Exposing the model to more historical data may help lower the metrics significantly. Nonetheless, let’s explore if there are opportunities to improve the accuracy by finding the best combinations of hyperparameters for the prophet model. I will use a hyperparameter tuning technique to try to optimize the model’s performance.\n"
   ]
  },
  {
   "cell_type": "markdown",
   "id": "29566221",
   "metadata": {},
   "source": [
    "### Hyperparameter tuning for improve model accuracy"
   ]
  },
  {
   "cell_type": "code",
   "execution_count": 25,
   "id": "4e15abe1",
   "metadata": {},
   "outputs": [],
   "source": [
    "from sklearn.model_selection import ParameterGrid"
   ]
  },
  {
   "cell_type": "code",
   "execution_count": 27,
   "id": "654b058f",
   "metadata": {},
   "outputs": [],
   "source": [
    "model_df = dataset.copy()\n",
    "model_df = model_df.rename(columns={'order date (DateOrders)': 'ds',\n",
    "                                    'Sales': 'y'})"
   ]
  },
  {
   "cell_type": "code",
   "execution_count": 33,
   "id": "ddb854fc",
   "metadata": {},
   "outputs": [],
   "source": [
    "# Specify hyperparameter values to try\n",
    "param_grid = {\n",
    "    'seasonality_mode': [\"additive\", 'multiplicative'],\n",
    "    'seasonality_prior_scale': [0.1, 0.5, 1, 5, 10],\n",
    "    'holidays_prior_scale': [1, 2, 5, 10, 15],\n",
    "    'changepoint_prior_scale': [0.005, 0.001, 0.01, 0.05, 0.1]\n",
    "}\n",
    "\n",
    "# Generate all combinations of hyperparameters using ParameterGrid\n",
    "param_combinations = ParameterGrid(param_grid)"
   ]
  },
  {
   "cell_type": "markdown",
   "id": "aa1b22f2",
   "metadata": {},
   "source": [
    "The code above uses the `ParameterGrid` function from the `sklearn` library to create a grid of hyperparameters. The grid contains different combinations of hyperparameters for the prophet model.\n",
    "\n",
    "On the other hand, the code below uses the `cross_validation()` function to evaluate the accuracy of the model for each combination of hyperparameters. The code then selects the combination of hyperparameters that results in the <i>lowest MAPE</i>.\n",
    "\n",
    "Here, we will consider only MAPE, because, it provides a clear understanding of the accuracy of the predictions in percentage terms, making it interpretable and comparable across different forecasting models. Also, taking the mean of these MAPE values will provide an aggregate measure of model performance across all iterations, giving a single representative value."
   ]
  },
  {
   "cell_type": "markdown",
   "id": "e776ad32",
   "metadata": {},
   "source": [
    "<b>NOTE</b>: The code will take a very long time to complete. It will try <b>250</b> different combinations of hyperparameters and the best model will be with the one with the lowest MAPE value."
   ]
  },
  {
   "cell_type": "code",
   "execution_count": 31,
   "id": "65f196c4",
   "metadata": {},
   "outputs": [],
   "source": [
    "# To compute the Cartesian product of input iterables.\n",
    "from itertools import product"
   ]
  },
  {
   "cell_type": "code",
   "execution_count": null,
   "id": "47241e3f",
   "metadata": {
    "scrolled": false
   },
   "outputs": [
    {
     "name": "stdout",
     "output_type": "stream",
     "text": [
      "Trying all 250 hyperparameter combinations\n"
     ]
    },
    {
     "name": "stderr",
     "output_type": "stream",
     "text": [
      "13:27:13 - cmdstanpy - INFO - Chain [1] start processing\n",
      "13:28:17 - cmdstanpy - INFO - Chain [1] done processing\n"
     ]
    },
    {
     "data": {
      "application/vnd.jupyter.widget-view+json": {
       "model_id": "dd4cb3c7839a4b189bfda0bac267e9d5",
       "version_major": 2,
       "version_minor": 0
      },
      "text/plain": [
       "  0%|          | 0/1 [00:00<?, ?it/s]"
      ]
     },
     "metadata": {},
     "output_type": "display_data"
    },
    {
     "name": "stderr",
     "output_type": "stream",
     "text": [
      "13:28:35 - cmdstanpy - INFO - Chain [1] start processing\n",
      "13:29:26 - cmdstanpy - INFO - Chain [1] done processing\n",
      "13:29:57 - cmdstanpy - INFO - Chain [1] start processing\n",
      "13:30:11 - cmdstanpy - INFO - Chain [1] done processing\n"
     ]
    },
    {
     "data": {
      "application/vnd.jupyter.widget-view+json": {
       "model_id": "df419ebedaeb413e882ba217c6982ef5",
       "version_major": 2,
       "version_minor": 0
      },
      "text/plain": [
       "  0%|          | 0/1 [00:00<?, ?it/s]"
      ]
     },
     "metadata": {},
     "output_type": "display_data"
    },
    {
     "name": "stderr",
     "output_type": "stream",
     "text": [
      "13:30:29 - cmdstanpy - INFO - Chain [1] start processing\n",
      "13:31:14 - cmdstanpy - INFO - Chain [1] done processing\n",
      "13:31:46 - cmdstanpy - INFO - Chain [1] start processing\n",
      "13:33:37 - cmdstanpy - INFO - Chain [1] done processing\n"
     ]
    },
    {
     "data": {
      "application/vnd.jupyter.widget-view+json": {
       "model_id": "56c1367bc28349069f73e0859339b6b5",
       "version_major": 2,
       "version_minor": 0
      },
      "text/plain": [
       "  0%|          | 0/1 [00:00<?, ?it/s]"
      ]
     },
     "metadata": {},
     "output_type": "display_data"
    },
    {
     "name": "stderr",
     "output_type": "stream",
     "text": [
      "13:33:55 - cmdstanpy - INFO - Chain [1] start processing\n",
      "13:36:16 - cmdstanpy - INFO - Chain [1] done processing\n",
      "13:36:47 - cmdstanpy - INFO - Chain [1] start processing\n",
      "13:38:44 - cmdstanpy - INFO - Chain [1] done processing\n"
     ]
    },
    {
     "data": {
      "application/vnd.jupyter.widget-view+json": {
       "model_id": "7814c17ec0a84e39ac348823aed72bf3",
       "version_major": 2,
       "version_minor": 0
      },
      "text/plain": [
       "  0%|          | 0/1 [00:00<?, ?it/s]"
      ]
     },
     "metadata": {},
     "output_type": "display_data"
    },
    {
     "name": "stderr",
     "output_type": "stream",
     "text": [
      "13:39:03 - cmdstanpy - INFO - Chain [1] start processing\n",
      "13:41:38 - cmdstanpy - INFO - Chain [1] done processing\n",
      "13:42:09 - cmdstanpy - INFO - Chain [1] start processing\n",
      "13:45:31 - cmdstanpy - INFO - Chain [1] done processing\n"
     ]
    },
    {
     "data": {
      "application/vnd.jupyter.widget-view+json": {
       "model_id": "b758944cd85e4954ae3667c37d98f967",
       "version_major": 2,
       "version_minor": 0
      },
      "text/plain": [
       "  0%|          | 0/1 [00:00<?, ?it/s]"
      ]
     },
     "metadata": {},
     "output_type": "display_data"
    },
    {
     "name": "stderr",
     "output_type": "stream",
     "text": [
      "13:45:53 - cmdstanpy - INFO - Chain [1] start processing\n",
      "13:49:27 - cmdstanpy - INFO - Chain [1] done processing\n",
      "13:50:03 - cmdstanpy - INFO - Chain [1] start processing\n",
      "13:51:16 - cmdstanpy - INFO - Chain [1] done processing\n"
     ]
    },
    {
     "data": {
      "application/vnd.jupyter.widget-view+json": {
       "model_id": "0a1c8bf1d5114d46a0e7ac3058aeae45",
       "version_major": 2,
       "version_minor": 0
      },
      "text/plain": [
       "  0%|          | 0/1 [00:00<?, ?it/s]"
      ]
     },
     "metadata": {},
     "output_type": "display_data"
    },
    {
     "name": "stderr",
     "output_type": "stream",
     "text": [
      "13:51:37 - cmdstanpy - INFO - Chain [1] start processing\n",
      "13:52:30 - cmdstanpy - INFO - Chain [1] done processing\n",
      "13:53:04 - cmdstanpy - INFO - Chain [1] start processing\n",
      "13:53:19 - cmdstanpy - INFO - Chain [1] done processing\n"
     ]
    },
    {
     "data": {
      "application/vnd.jupyter.widget-view+json": {
       "model_id": "bca3ff06c2df4ca2af8d13fb93bd11d6",
       "version_major": 2,
       "version_minor": 0
      },
      "text/plain": [
       "  0%|          | 0/1 [00:00<?, ?it/s]"
      ]
     },
     "metadata": {},
     "output_type": "display_data"
    },
    {
     "name": "stderr",
     "output_type": "stream",
     "text": [
      "13:53:38 - cmdstanpy - INFO - Chain [1] start processing\n",
      "13:54:23 - cmdstanpy - INFO - Chain [1] done processing\n",
      "13:54:56 - cmdstanpy - INFO - Chain [1] start processing\n",
      "13:57:09 - cmdstanpy - INFO - Chain [1] done processing\n"
     ]
    },
    {
     "data": {
      "application/vnd.jupyter.widget-view+json": {
       "model_id": "82f0bc6be8b94079a06e5a9319a7590a",
       "version_major": 2,
       "version_minor": 0
      },
      "text/plain": [
       "  0%|          | 0/1 [00:00<?, ?it/s]"
      ]
     },
     "metadata": {},
     "output_type": "display_data"
    },
    {
     "name": "stderr",
     "output_type": "stream",
     "text": [
      "13:57:31 - cmdstanpy - INFO - Chain [1] start processing\n",
      "14:00:07 - cmdstanpy - INFO - Chain [1] done processing\n",
      "14:00:43 - cmdstanpy - INFO - Chain [1] start processing\n",
      "14:02:55 - cmdstanpy - INFO - Chain [1] done processing\n"
     ]
    },
    {
     "data": {
      "application/vnd.jupyter.widget-view+json": {
       "model_id": "5aa27c07b65540619810871ab4d19466",
       "version_major": 2,
       "version_minor": 0
      },
      "text/plain": [
       "  0%|          | 0/1 [00:00<?, ?it/s]"
      ]
     },
     "metadata": {},
     "output_type": "display_data"
    },
    {
     "name": "stderr",
     "output_type": "stream",
     "text": [
      "14:03:13 - cmdstanpy - INFO - Chain [1] start processing\n",
      "14:05:48 - cmdstanpy - INFO - Chain [1] done processing\n",
      "14:06:21 - cmdstanpy - INFO - Chain [1] start processing\n",
      "14:09:14 - cmdstanpy - INFO - Chain [1] done processing\n"
     ]
    },
    {
     "data": {
      "application/vnd.jupyter.widget-view+json": {
       "model_id": "aae7c68174694f4da43c1570c85872ae",
       "version_major": 2,
       "version_minor": 0
      },
      "text/plain": [
       "  0%|          | 0/1 [00:00<?, ?it/s]"
      ]
     },
     "metadata": {},
     "output_type": "display_data"
    },
    {
     "name": "stderr",
     "output_type": "stream",
     "text": [
      "14:09:32 - cmdstanpy - INFO - Chain [1] start processing\n",
      "14:12:29 - cmdstanpy - INFO - Chain [1] done processing\n",
      "14:12:59 - cmdstanpy - INFO - Chain [1] start processing\n",
      "14:13:52 - cmdstanpy - INFO - Chain [1] done processing\n"
     ]
    },
    {
     "data": {
      "application/vnd.jupyter.widget-view+json": {
       "model_id": "81adae24c0b442099597f105c50a0476",
       "version_major": 2,
       "version_minor": 0
      },
      "text/plain": [
       "  0%|          | 0/1 [00:00<?, ?it/s]"
      ]
     },
     "metadata": {},
     "output_type": "display_data"
    },
    {
     "name": "stderr",
     "output_type": "stream",
     "text": [
      "14:14:10 - cmdstanpy - INFO - Chain [1] start processing\n",
      "14:14:58 - cmdstanpy - INFO - Chain [1] done processing\n",
      "14:15:29 - cmdstanpy - INFO - Chain [1] start processing\n",
      "14:15:43 - cmdstanpy - INFO - Chain [1] done processing\n"
     ]
    },
    {
     "data": {
      "application/vnd.jupyter.widget-view+json": {
       "model_id": "276bf538c692484f91564e8c0abb79fd",
       "version_major": 2,
       "version_minor": 0
      },
      "text/plain": [
       "  0%|          | 0/1 [00:00<?, ?it/s]"
      ]
     },
     "metadata": {},
     "output_type": "display_data"
    },
    {
     "name": "stderr",
     "output_type": "stream",
     "text": [
      "14:16:01 - cmdstanpy - INFO - Chain [1] start processing\n",
      "14:16:43 - cmdstanpy - INFO - Chain [1] done processing\n",
      "14:17:14 - cmdstanpy - INFO - Chain [1] start processing\n",
      "14:19:05 - cmdstanpy - INFO - Chain [1] done processing\n"
     ]
    },
    {
     "data": {
      "application/vnd.jupyter.widget-view+json": {
       "model_id": "2b35532495af4290a7e968f6b15071f9",
       "version_major": 2,
       "version_minor": 0
      },
      "text/plain": [
       "  0%|          | 0/1 [00:00<?, ?it/s]"
      ]
     },
     "metadata": {},
     "output_type": "display_data"
    },
    {
     "name": "stderr",
     "output_type": "stream",
     "text": [
      "14:19:23 - cmdstanpy - INFO - Chain [1] start processing\n",
      "14:21:43 - cmdstanpy - INFO - Chain [1] done processing\n",
      "14:22:13 - cmdstanpy - INFO - Chain [1] start processing\n",
      "14:24:11 - cmdstanpy - INFO - Chain [1] done processing\n"
     ]
    },
    {
     "data": {
      "application/vnd.jupyter.widget-view+json": {
       "model_id": "bfd6ee0a614743e69df816ab631eae69",
       "version_major": 2,
       "version_minor": 0
      },
      "text/plain": [
       "  0%|          | 0/1 [00:00<?, ?it/s]"
      ]
     },
     "metadata": {},
     "output_type": "display_data"
    },
    {
     "name": "stderr",
     "output_type": "stream",
     "text": [
      "14:24:28 - cmdstanpy - INFO - Chain [1] start processing\n",
      "14:27:04 - cmdstanpy - INFO - Chain [1] done processing\n",
      "14:27:34 - cmdstanpy - INFO - Chain [1] start processing\n",
      "14:30:25 - cmdstanpy - INFO - Chain [1] done processing\n"
     ]
    },
    {
     "data": {
      "application/vnd.jupyter.widget-view+json": {
       "model_id": "d1752c9108364cb1a805c043379a595f",
       "version_major": 2,
       "version_minor": 0
      },
      "text/plain": [
       "  0%|          | 0/1 [00:00<?, ?it/s]"
      ]
     },
     "metadata": {},
     "output_type": "display_data"
    },
    {
     "name": "stderr",
     "output_type": "stream",
     "text": [
      "14:30:43 - cmdstanpy - INFO - Chain [1] start processing\n",
      "14:33:38 - cmdstanpy - INFO - Chain [1] done processing\n",
      "14:34:08 - cmdstanpy - INFO - Chain [1] start processing\n",
      "14:35:02 - cmdstanpy - INFO - Chain [1] done processing\n"
     ]
    },
    {
     "data": {
      "application/vnd.jupyter.widget-view+json": {
       "model_id": "2c068983aa7e42b09ab6e58b20244291",
       "version_major": 2,
       "version_minor": 0
      },
      "text/plain": [
       "  0%|          | 0/1 [00:00<?, ?it/s]"
      ]
     },
     "metadata": {},
     "output_type": "display_data"
    },
    {
     "name": "stderr",
     "output_type": "stream",
     "text": [
      "14:35:20 - cmdstanpy - INFO - Chain [1] start processing\n",
      "14:36:08 - cmdstanpy - INFO - Chain [1] done processing\n",
      "14:36:38 - cmdstanpy - INFO - Chain [1] start processing\n",
      "14:36:51 - cmdstanpy - INFO - Chain [1] done processing\n"
     ]
    },
    {
     "data": {
      "application/vnd.jupyter.widget-view+json": {
       "model_id": "72985b395c7548ea90f66c93c350c302",
       "version_major": 2,
       "version_minor": 0
      },
      "text/plain": [
       "  0%|          | 0/1 [00:00<?, ?it/s]"
      ]
     },
     "metadata": {},
     "output_type": "display_data"
    },
    {
     "name": "stderr",
     "output_type": "stream",
     "text": [
      "14:37:09 - cmdstanpy - INFO - Chain [1] start processing\n",
      "14:37:52 - cmdstanpy - INFO - Chain [1] done processing\n",
      "14:38:22 - cmdstanpy - INFO - Chain [1] start processing\n",
      "14:40:10 - cmdstanpy - INFO - Chain [1] done processing\n"
     ]
    },
    {
     "data": {
      "application/vnd.jupyter.widget-view+json": {
       "model_id": "9e205e28d81044c3b4d8c43613227528",
       "version_major": 2,
       "version_minor": 0
      },
      "text/plain": [
       "  0%|          | 0/1 [00:00<?, ?it/s]"
      ]
     },
     "metadata": {},
     "output_type": "display_data"
    },
    {
     "name": "stderr",
     "output_type": "stream",
     "text": [
      "14:40:28 - cmdstanpy - INFO - Chain [1] start processing\n",
      "14:42:46 - cmdstanpy - INFO - Chain [1] done processing\n",
      "14:43:20 - cmdstanpy - INFO - Chain [1] start processing\n",
      "14:45:21 - cmdstanpy - INFO - Chain [1] done processing\n"
     ]
    },
    {
     "data": {
      "application/vnd.jupyter.widget-view+json": {
       "model_id": "da08b68a4bad48e1a3471b15e5b6d4ad",
       "version_major": 2,
       "version_minor": 0
      },
      "text/plain": [
       "  0%|          | 0/1 [00:00<?, ?it/s]"
      ]
     },
     "metadata": {},
     "output_type": "display_data"
    },
    {
     "name": "stderr",
     "output_type": "stream",
     "text": [
      "14:45:40 - cmdstanpy - INFO - Chain [1] start processing\n",
      "14:48:15 - cmdstanpy - INFO - Chain [1] done processing\n",
      "14:48:46 - cmdstanpy - INFO - Chain [1] start processing\n",
      "14:51:40 - cmdstanpy - INFO - Chain [1] done processing\n"
     ]
    },
    {
     "data": {
      "application/vnd.jupyter.widget-view+json": {
       "model_id": "e5dd7378d56041b0ac68dbbf5294494b",
       "version_major": 2,
       "version_minor": 0
      },
      "text/plain": [
       "  0%|          | 0/1 [00:00<?, ?it/s]"
      ]
     },
     "metadata": {},
     "output_type": "display_data"
    },
    {
     "name": "stderr",
     "output_type": "stream",
     "text": [
      "14:51:58 - cmdstanpy - INFO - Chain [1] start processing\n",
      "14:54:55 - cmdstanpy - INFO - Chain [1] done processing\n",
      "14:55:24 - cmdstanpy - INFO - Chain [1] start processing\n",
      "14:56:18 - cmdstanpy - INFO - Chain [1] done processing\n"
     ]
    },
    {
     "data": {
      "application/vnd.jupyter.widget-view+json": {
       "model_id": "d63066ab9ce54bd49f1b1b88831da2b3",
       "version_major": 2,
       "version_minor": 0
      },
      "text/plain": [
       "  0%|          | 0/1 [00:00<?, ?it/s]"
      ]
     },
     "metadata": {},
     "output_type": "display_data"
    },
    {
     "name": "stderr",
     "output_type": "stream",
     "text": [
      "14:56:36 - cmdstanpy - INFO - Chain [1] start processing\n",
      "14:57:25 - cmdstanpy - INFO - Chain [1] done processing\n",
      "14:57:55 - cmdstanpy - INFO - Chain [1] start processing\n",
      "14:58:09 - cmdstanpy - INFO - Chain [1] done processing\n"
     ]
    },
    {
     "data": {
      "application/vnd.jupyter.widget-view+json": {
       "model_id": "10aa9a4d96794ed5a4571afc5338e223",
       "version_major": 2,
       "version_minor": 0
      },
      "text/plain": [
       "  0%|          | 0/1 [00:00<?, ?it/s]"
      ]
     },
     "metadata": {},
     "output_type": "display_data"
    },
    {
     "name": "stderr",
     "output_type": "stream",
     "text": [
      "14:58:27 - cmdstanpy - INFO - Chain [1] start processing\n",
      "14:59:09 - cmdstanpy - INFO - Chain [1] done processing\n",
      "14:59:39 - cmdstanpy - INFO - Chain [1] start processing\n",
      "15:01:27 - cmdstanpy - INFO - Chain [1] done processing\n"
     ]
    },
    {
     "data": {
      "application/vnd.jupyter.widget-view+json": {
       "model_id": "c574a9cd207b4f678e2665f5106ddb54",
       "version_major": 2,
       "version_minor": 0
      },
      "text/plain": [
       "  0%|          | 0/1 [00:00<?, ?it/s]"
      ]
     },
     "metadata": {},
     "output_type": "display_data"
    },
    {
     "name": "stderr",
     "output_type": "stream",
     "text": [
      "15:01:44 - cmdstanpy - INFO - Chain [1] start processing\n",
      "15:04:06 - cmdstanpy - INFO - Chain [1] done processing\n",
      "15:04:35 - cmdstanpy - INFO - Chain [1] start processing\n",
      "15:06:32 - cmdstanpy - INFO - Chain [1] done processing\n"
     ]
    },
    {
     "data": {
      "application/vnd.jupyter.widget-view+json": {
       "model_id": "725f531d5c2f4ba28a9b90f1abb58418",
       "version_major": 2,
       "version_minor": 0
      },
      "text/plain": [
       "  0%|          | 0/1 [00:00<?, ?it/s]"
      ]
     },
     "metadata": {},
     "output_type": "display_data"
    },
    {
     "name": "stderr",
     "output_type": "stream",
     "text": [
      "15:06:49 - cmdstanpy - INFO - Chain [1] start processing\n",
      "15:09:24 - cmdstanpy - INFO - Chain [1] done processing\n",
      "15:09:54 - cmdstanpy - INFO - Chain [1] start processing\n",
      "15:12:51 - cmdstanpy - INFO - Chain [1] done processing\n"
     ]
    },
    {
     "data": {
      "application/vnd.jupyter.widget-view+json": {
       "model_id": "9b1932acfc6f4a21a2f2e3bd20fd21f6",
       "version_major": 2,
       "version_minor": 0
      },
      "text/plain": [
       "  0%|          | 0/1 [00:00<?, ?it/s]"
      ]
     },
     "metadata": {},
     "output_type": "display_data"
    },
    {
     "name": "stderr",
     "output_type": "stream",
     "text": [
      "15:13:09 - cmdstanpy - INFO - Chain [1] start processing\n",
      "15:16:21 - cmdstanpy - INFO - Chain [1] done processing\n",
      "15:16:51 - cmdstanpy - INFO - Chain [1] start processing\n",
      "15:17:52 - cmdstanpy - INFO - Chain [1] done processing\n"
     ]
    },
    {
     "data": {
      "application/vnd.jupyter.widget-view+json": {
       "model_id": "80ffa96317d74b039091637229a6f2c6",
       "version_major": 2,
       "version_minor": 0
      },
      "text/plain": [
       "  0%|          | 0/1 [00:00<?, ?it/s]"
      ]
     },
     "metadata": {},
     "output_type": "display_data"
    },
    {
     "name": "stderr",
     "output_type": "stream",
     "text": [
      "15:18:10 - cmdstanpy - INFO - Chain [1] start processing\n",
      "15:18:52 - cmdstanpy - INFO - Chain [1] done processing\n",
      "15:19:23 - cmdstanpy - INFO - Chain [1] start processing\n",
      "15:19:36 - cmdstanpy - INFO - Chain [1] done processing\n"
     ]
    },
    {
     "data": {
      "application/vnd.jupyter.widget-view+json": {
       "model_id": "ef2e92368aa4432c8a04d3e46f4178f1",
       "version_major": 2,
       "version_minor": 0
      },
      "text/plain": [
       "  0%|          | 0/1 [00:00<?, ?it/s]"
      ]
     },
     "metadata": {},
     "output_type": "display_data"
    },
    {
     "name": "stderr",
     "output_type": "stream",
     "text": [
      "15:19:54 - cmdstanpy - INFO - Chain [1] start processing\n",
      "15:20:22 - cmdstanpy - INFO - Chain [1] done processing\n",
      "15:20:52 - cmdstanpy - INFO - Chain [1] start processing\n",
      "15:22:32 - cmdstanpy - INFO - Chain [1] done processing\n"
     ]
    },
    {
     "data": {
      "application/vnd.jupyter.widget-view+json": {
       "model_id": "e58df074ba064af9a738ea72f5b4ffd0",
       "version_major": 2,
       "version_minor": 0
      },
      "text/plain": [
       "  0%|          | 0/1 [00:00<?, ?it/s]"
      ]
     },
     "metadata": {},
     "output_type": "display_data"
    },
    {
     "name": "stderr",
     "output_type": "stream",
     "text": [
      "15:22:51 - cmdstanpy - INFO - Chain [1] start processing\n",
      "15:25:11 - cmdstanpy - INFO - Chain [1] done processing\n",
      "15:25:42 - cmdstanpy - INFO - Chain [1] start processing\n",
      "15:28:08 - cmdstanpy - INFO - Chain [1] done processing\n"
     ]
    },
    {
     "data": {
      "application/vnd.jupyter.widget-view+json": {
       "model_id": "2a780fd328ba4e88bb1552aa761c22b7",
       "version_major": 2,
       "version_minor": 0
      },
      "text/plain": [
       "  0%|          | 0/1 [00:00<?, ?it/s]"
      ]
     },
     "metadata": {},
     "output_type": "display_data"
    },
    {
     "name": "stderr",
     "output_type": "stream",
     "text": [
      "15:28:26 - cmdstanpy - INFO - Chain [1] start processing\n",
      "15:31:02 - cmdstanpy - INFO - Chain [1] done processing\n",
      "15:31:32 - cmdstanpy - INFO - Chain [1] start processing\n",
      "15:33:55 - cmdstanpy - INFO - Chain [1] done processing\n"
     ]
    },
    {
     "data": {
      "application/vnd.jupyter.widget-view+json": {
       "model_id": "bddbf3a0ff424d5fbd78128f6bc953fc",
       "version_major": 2,
       "version_minor": 0
      },
      "text/plain": [
       "  0%|          | 0/1 [00:00<?, ?it/s]"
      ]
     },
     "metadata": {},
     "output_type": "display_data"
    },
    {
     "name": "stderr",
     "output_type": "stream",
     "text": [
      "15:34:13 - cmdstanpy - INFO - Chain [1] start processing\n",
      "15:36:58 - cmdstanpy - INFO - Chain [1] done processing\n",
      "15:37:28 - cmdstanpy - INFO - Chain [1] start processing\n",
      "15:38:27 - cmdstanpy - INFO - Chain [1] done processing\n"
     ]
    },
    {
     "data": {
      "application/vnd.jupyter.widget-view+json": {
       "model_id": "71cfbdb7ff594e81b574091006a6d030",
       "version_major": 2,
       "version_minor": 0
      },
      "text/plain": [
       "  0%|          | 0/1 [00:00<?, ?it/s]"
      ]
     },
     "metadata": {},
     "output_type": "display_data"
    },
    {
     "name": "stderr",
     "output_type": "stream",
     "text": [
      "15:38:45 - cmdstanpy - INFO - Chain [1] start processing\n",
      "15:39:27 - cmdstanpy - INFO - Chain [1] done processing\n",
      "15:39:58 - cmdstanpy - INFO - Chain [1] start processing\n",
      "15:40:11 - cmdstanpy - INFO - Chain [1] done processing\n"
     ]
    },
    {
     "data": {
      "application/vnd.jupyter.widget-view+json": {
       "model_id": "ea5a2d42d72045adaef7a5d35ab681ed",
       "version_major": 2,
       "version_minor": 0
      },
      "text/plain": [
       "  0%|          | 0/1 [00:00<?, ?it/s]"
      ]
     },
     "metadata": {},
     "output_type": "display_data"
    },
    {
     "name": "stderr",
     "output_type": "stream",
     "text": [
      "15:40:28 - cmdstanpy - INFO - Chain [1] start processing\n",
      "15:40:56 - cmdstanpy - INFO - Chain [1] done processing\n",
      "15:41:25 - cmdstanpy - INFO - Chain [1] start processing\n",
      "15:43:05 - cmdstanpy - INFO - Chain [1] done processing\n"
     ]
    },
    {
     "data": {
      "application/vnd.jupyter.widget-view+json": {
       "model_id": "9d1b9a15890f46a7beb29c0a99253663",
       "version_major": 2,
       "version_minor": 0
      },
      "text/plain": [
       "  0%|          | 0/1 [00:00<?, ?it/s]"
      ]
     },
     "metadata": {},
     "output_type": "display_data"
    },
    {
     "name": "stderr",
     "output_type": "stream",
     "text": [
      "15:43:23 - cmdstanpy - INFO - Chain [1] start processing\n",
      "15:45:42 - cmdstanpy - INFO - Chain [1] done processing\n",
      "15:46:11 - cmdstanpy - INFO - Chain [1] start processing\n",
      "15:48:37 - cmdstanpy - INFO - Chain [1] done processing\n"
     ]
    },
    {
     "data": {
      "application/vnd.jupyter.widget-view+json": {
       "model_id": "77c6d950e8464a8285d1c132cc8a21e6",
       "version_major": 2,
       "version_minor": 0
      },
      "text/plain": [
       "  0%|          | 0/1 [00:00<?, ?it/s]"
      ]
     },
     "metadata": {},
     "output_type": "display_data"
    },
    {
     "name": "stderr",
     "output_type": "stream",
     "text": [
      "15:48:55 - cmdstanpy - INFO - Chain [1] start processing\n",
      "15:51:30 - cmdstanpy - INFO - Chain [1] done processing\n",
      "15:52:00 - cmdstanpy - INFO - Chain [1] start processing\n",
      "15:54:24 - cmdstanpy - INFO - Chain [1] done processing\n"
     ]
    },
    {
     "data": {
      "application/vnd.jupyter.widget-view+json": {
       "model_id": "8f137f62bff94d17a3883fec2a64f074",
       "version_major": 2,
       "version_minor": 0
      },
      "text/plain": [
       "  0%|          | 0/1 [00:00<?, ?it/s]"
      ]
     },
     "metadata": {},
     "output_type": "display_data"
    },
    {
     "name": "stderr",
     "output_type": "stream",
     "text": [
      "15:54:44 - cmdstanpy - INFO - Chain [1] start processing\n",
      "15:57:27 - cmdstanpy - INFO - Chain [1] done processing\n",
      "15:57:57 - cmdstanpy - INFO - Chain [1] start processing\n",
      "15:58:57 - cmdstanpy - INFO - Chain [1] done processing\n"
     ]
    },
    {
     "data": {
      "application/vnd.jupyter.widget-view+json": {
       "model_id": "369d70f2376b443585b355c25f8bce96",
       "version_major": 2,
       "version_minor": 0
      },
      "text/plain": [
       "  0%|          | 0/1 [00:00<?, ?it/s]"
      ]
     },
     "metadata": {},
     "output_type": "display_data"
    },
    {
     "name": "stderr",
     "output_type": "stream",
     "text": [
      "15:59:15 - cmdstanpy - INFO - Chain [1] start processing\n",
      "15:59:57 - cmdstanpy - INFO - Chain [1] done processing\n",
      "16:00:27 - cmdstanpy - INFO - Chain [1] start processing\n",
      "16:00:40 - cmdstanpy - INFO - Chain [1] done processing\n"
     ]
    },
    {
     "data": {
      "application/vnd.jupyter.widget-view+json": {
       "model_id": "7ad89e1aaa48494eb6ee10324766eb1b",
       "version_major": 2,
       "version_minor": 0
      },
      "text/plain": [
       "  0%|          | 0/1 [00:00<?, ?it/s]"
      ]
     },
     "metadata": {},
     "output_type": "display_data"
    },
    {
     "name": "stderr",
     "output_type": "stream",
     "text": [
      "16:00:58 - cmdstanpy - INFO - Chain [1] start processing\n",
      "16:01:27 - cmdstanpy - INFO - Chain [1] done processing\n",
      "16:01:57 - cmdstanpy - INFO - Chain [1] start processing\n",
      "16:03:35 - cmdstanpy - INFO - Chain [1] done processing\n"
     ]
    },
    {
     "data": {
      "application/vnd.jupyter.widget-view+json": {
       "model_id": "806cecb039584d98b8b8882c7de163b2",
       "version_major": 2,
       "version_minor": 0
      },
      "text/plain": [
       "  0%|          | 0/1 [00:00<?, ?it/s]"
      ]
     },
     "metadata": {},
     "output_type": "display_data"
    },
    {
     "name": "stderr",
     "output_type": "stream",
     "text": [
      "16:03:53 - cmdstanpy - INFO - Chain [1] start processing\n",
      "16:06:12 - cmdstanpy - INFO - Chain [1] done processing\n",
      "16:06:47 - cmdstanpy - INFO - Chain [1] start processing\n",
      "16:09:19 - cmdstanpy - INFO - Chain [1] done processing\n"
     ]
    },
    {
     "data": {
      "application/vnd.jupyter.widget-view+json": {
       "model_id": "a954f2ab3cef4d539f43d7cede614d7c",
       "version_major": 2,
       "version_minor": 0
      },
      "text/plain": [
       "  0%|          | 0/1 [00:00<?, ?it/s]"
      ]
     },
     "metadata": {},
     "output_type": "display_data"
    },
    {
     "name": "stderr",
     "output_type": "stream",
     "text": [
      "16:09:38 - cmdstanpy - INFO - Chain [1] start processing\n",
      "16:12:14 - cmdstanpy - INFO - Chain [1] done processing\n",
      "16:12:44 - cmdstanpy - INFO - Chain [1] start processing\n",
      "16:15:08 - cmdstanpy - INFO - Chain [1] done processing\n"
     ]
    },
    {
     "data": {
      "application/vnd.jupyter.widget-view+json": {
       "model_id": "5ed7b6c04ea44ef8afc246d703f6b930",
       "version_major": 2,
       "version_minor": 0
      },
      "text/plain": [
       "  0%|          | 0/1 [00:00<?, ?it/s]"
      ]
     },
     "metadata": {},
     "output_type": "display_data"
    },
    {
     "name": "stderr",
     "output_type": "stream",
     "text": [
      "16:15:26 - cmdstanpy - INFO - Chain [1] start processing\n",
      "16:18:15 - cmdstanpy - INFO - Chain [1] done processing\n",
      "16:18:44 - cmdstanpy - INFO - Chain [1] start processing\n",
      "16:19:46 - cmdstanpy - INFO - Chain [1] done processing\n"
     ]
    },
    {
     "data": {
      "application/vnd.jupyter.widget-view+json": {
       "model_id": "fb7d6af682dc4e16bb22be603b797bc8",
       "version_major": 2,
       "version_minor": 0
      },
      "text/plain": [
       "  0%|          | 0/1 [00:00<?, ?it/s]"
      ]
     },
     "metadata": {},
     "output_type": "display_data"
    },
    {
     "name": "stderr",
     "output_type": "stream",
     "text": [
      "16:20:03 - cmdstanpy - INFO - Chain [1] start processing\n",
      "16:20:46 - cmdstanpy - INFO - Chain [1] done processing\n",
      "16:21:15 - cmdstanpy - INFO - Chain [1] start processing\n",
      "16:21:28 - cmdstanpy - INFO - Chain [1] done processing\n"
     ]
    },
    {
     "data": {
      "application/vnd.jupyter.widget-view+json": {
       "model_id": "0b1dc62cfacc4c84ac9634ed598e998a",
       "version_major": 2,
       "version_minor": 0
      },
      "text/plain": [
       "  0%|          | 0/1 [00:00<?, ?it/s]"
      ]
     },
     "metadata": {},
     "output_type": "display_data"
    },
    {
     "name": "stderr",
     "output_type": "stream",
     "text": [
      "16:21:46 - cmdstanpy - INFO - Chain [1] start processing\n",
      "16:22:14 - cmdstanpy - INFO - Chain [1] done processing\n",
      "16:22:44 - cmdstanpy - INFO - Chain [1] start processing\n",
      "16:24:23 - cmdstanpy - INFO - Chain [1] done processing\n"
     ]
    },
    {
     "data": {
      "application/vnd.jupyter.widget-view+json": {
       "model_id": "6b170d7ef80c4afc8bf41cc366bce8e6",
       "version_major": 2,
       "version_minor": 0
      },
      "text/plain": [
       "  0%|          | 0/1 [00:00<?, ?it/s]"
      ]
     },
     "metadata": {},
     "output_type": "display_data"
    },
    {
     "name": "stderr",
     "output_type": "stream",
     "text": [
      "16:24:42 - cmdstanpy - INFO - Chain [1] start processing\n",
      "16:27:13 - cmdstanpy - INFO - Chain [1] done processing\n",
      "16:27:44 - cmdstanpy - INFO - Chain [1] start processing\n",
      "16:30:10 - cmdstanpy - INFO - Chain [1] done processing\n"
     ]
    },
    {
     "data": {
      "application/vnd.jupyter.widget-view+json": {
       "model_id": "b9c30d9bb3cd44648d1c12d09202f6e3",
       "version_major": 2,
       "version_minor": 0
      },
      "text/plain": [
       "  0%|          | 0/1 [00:00<?, ?it/s]"
      ]
     },
     "metadata": {},
     "output_type": "display_data"
    },
    {
     "name": "stderr",
     "output_type": "stream",
     "text": [
      "16:30:28 - cmdstanpy - INFO - Chain [1] start processing\n",
      "16:33:09 - cmdstanpy - INFO - Chain [1] done processing\n",
      "16:33:38 - cmdstanpy - INFO - Chain [1] start processing\n",
      "16:36:03 - cmdstanpy - INFO - Chain [1] done processing\n"
     ]
    },
    {
     "data": {
      "application/vnd.jupyter.widget-view+json": {
       "model_id": "3c422712d69a4e2ca54daa2fc54f23df",
       "version_major": 2,
       "version_minor": 0
      },
      "text/plain": [
       "  0%|          | 0/1 [00:00<?, ?it/s]"
      ]
     },
     "metadata": {},
     "output_type": "display_data"
    },
    {
     "name": "stderr",
     "output_type": "stream",
     "text": [
      "16:36:20 - cmdstanpy - INFO - Chain [1] start processing\n",
      "16:39:04 - cmdstanpy - INFO - Chain [1] done processing\n",
      "16:39:34 - cmdstanpy - INFO - Chain [1] start processing\n",
      "16:40:34 - cmdstanpy - INFO - Chain [1] done processing\n"
     ]
    },
    {
     "data": {
      "application/vnd.jupyter.widget-view+json": {
       "model_id": "939d99abe4ae4e9ebbf6d343ae704f90",
       "version_major": 2,
       "version_minor": 0
      },
      "text/plain": [
       "  0%|          | 0/1 [00:00<?, ?it/s]"
      ]
     },
     "metadata": {},
     "output_type": "display_data"
    },
    {
     "name": "stderr",
     "output_type": "stream",
     "text": [
      "16:40:51 - cmdstanpy - INFO - Chain [1] start processing\n",
      "16:41:33 - cmdstanpy - INFO - Chain [1] done processing\n",
      "16:42:03 - cmdstanpy - INFO - Chain [1] start processing\n",
      "16:42:16 - cmdstanpy - INFO - Chain [1] done processing\n"
     ]
    },
    {
     "data": {
      "application/vnd.jupyter.widget-view+json": {
       "model_id": "915d1fcfa7a84acc96b45192f2c3a8a4",
       "version_major": 2,
       "version_minor": 0
      },
      "text/plain": [
       "  0%|          | 0/1 [00:00<?, ?it/s]"
      ]
     },
     "metadata": {},
     "output_type": "display_data"
    },
    {
     "name": "stderr",
     "output_type": "stream",
     "text": [
      "16:42:34 - cmdstanpy - INFO - Chain [1] start processing\n",
      "16:43:03 - cmdstanpy - INFO - Chain [1] done processing\n",
      "16:43:33 - cmdstanpy - INFO - Chain [1] start processing\n",
      "16:45:11 - cmdstanpy - INFO - Chain [1] done processing\n"
     ]
    },
    {
     "data": {
      "application/vnd.jupyter.widget-view+json": {
       "model_id": "b3fcb20c5c4d446380b186bd939c3f32",
       "version_major": 2,
       "version_minor": 0
      },
      "text/plain": [
       "  0%|          | 0/1 [00:00<?, ?it/s]"
      ]
     },
     "metadata": {},
     "output_type": "display_data"
    },
    {
     "name": "stderr",
     "output_type": "stream",
     "text": [
      "16:45:29 - cmdstanpy - INFO - Chain [1] start processing\n",
      "16:47:51 - cmdstanpy - INFO - Chain [1] done processing\n",
      "16:48:21 - cmdstanpy - INFO - Chain [1] start processing\n",
      "16:51:01 - cmdstanpy - INFO - Chain [1] done processing\n"
     ]
    },
    {
     "data": {
      "application/vnd.jupyter.widget-view+json": {
       "model_id": "d18fe9200a2f48c9b7511c57e35ef2fc",
       "version_major": 2,
       "version_minor": 0
      },
      "text/plain": [
       "  0%|          | 0/1 [00:00<?, ?it/s]"
      ]
     },
     "metadata": {},
     "output_type": "display_data"
    },
    {
     "name": "stderr",
     "output_type": "stream",
     "text": [
      "16:51:18 - cmdstanpy - INFO - Chain [1] start processing\n",
      "16:54:37 - cmdstanpy - INFO - Chain [1] done processing\n",
      "16:55:50 - cmdstanpy - INFO - Chain [1] start processing\n",
      "17:00:14 - cmdstanpy - INFO - Chain [1] done processing\n"
     ]
    },
    {
     "data": {
      "application/vnd.jupyter.widget-view+json": {
       "model_id": "f55b2b14075649e3a5adda1eb68040a8",
       "version_major": 2,
       "version_minor": 0
      },
      "text/plain": [
       "  0%|          | 0/1 [00:00<?, ?it/s]"
      ]
     },
     "metadata": {},
     "output_type": "display_data"
    },
    {
     "name": "stderr",
     "output_type": "stream",
     "text": [
      "17:00:57 - cmdstanpy - INFO - Chain [1] start processing\n",
      "17:06:01 - cmdstanpy - INFO - Chain [1] done processing\n",
      "17:07:15 - cmdstanpy - INFO - Chain [1] start processing\n",
      "17:08:27 - cmdstanpy - INFO - Chain [1] done processing\n"
     ]
    },
    {
     "data": {
      "application/vnd.jupyter.widget-view+json": {
       "model_id": "29678c95abcd4fa6ba967369679218d0",
       "version_major": 2,
       "version_minor": 0
      },
      "text/plain": [
       "  0%|          | 0/1 [00:00<?, ?it/s]"
      ]
     },
     "metadata": {},
     "output_type": "display_data"
    },
    {
     "name": "stderr",
     "output_type": "stream",
     "text": [
      "17:09:10 - cmdstanpy - INFO - Chain [1] start processing\n",
      "17:11:39 - cmdstanpy - INFO - Chain [1] done processing\n",
      "17:12:54 - cmdstanpy - INFO - Chain [1] start processing\n",
      "17:13:14 - cmdstanpy - INFO - Chain [1] done processing\n"
     ]
    },
    {
     "data": {
      "application/vnd.jupyter.widget-view+json": {
       "model_id": "0477fed6000f431ca73e9c11238ccb26",
       "version_major": 2,
       "version_minor": 0
      },
      "text/plain": [
       "  0%|          | 0/1 [00:00<?, ?it/s]"
      ]
     },
     "metadata": {},
     "output_type": "display_data"
    },
    {
     "name": "stderr",
     "output_type": "stream",
     "text": [
      "17:13:57 - cmdstanpy - INFO - Chain [1] start processing\n",
      "17:14:55 - cmdstanpy - INFO - Chain [1] done processing\n",
      "17:16:11 - cmdstanpy - INFO - Chain [1] start processing\n",
      "17:20:10 - cmdstanpy - INFO - Chain [1] done processing\n"
     ]
    },
    {
     "data": {
      "application/vnd.jupyter.widget-view+json": {
       "model_id": "252ed12088df4f8f90f386c818268267",
       "version_major": 2,
       "version_minor": 0
      },
      "text/plain": [
       "  0%|          | 0/1 [00:00<?, ?it/s]"
      ]
     },
     "metadata": {},
     "output_type": "display_data"
    },
    {
     "name": "stderr",
     "output_type": "stream",
     "text": [
      "17:20:53 - cmdstanpy - INFO - Chain [1] start processing\n",
      "17:25:02 - cmdstanpy - INFO - Chain [1] done processing\n",
      "17:26:14 - cmdstanpy - INFO - Chain [1] start processing\n",
      "17:30:05 - cmdstanpy - INFO - Chain [1] done processing\n"
     ]
    },
    {
     "data": {
      "application/vnd.jupyter.widget-view+json": {
       "model_id": "03b140d1b9b84abb88dda64e59f15af2",
       "version_major": 2,
       "version_minor": 0
      },
      "text/plain": [
       "  0%|          | 0/1 [00:00<?, ?it/s]"
      ]
     },
     "metadata": {},
     "output_type": "display_data"
    },
    {
     "name": "stderr",
     "output_type": "stream",
     "text": [
      "17:30:48 - cmdstanpy - INFO - Chain [1] start processing\n",
      "17:34:49 - cmdstanpy - INFO - Chain [1] done processing\n",
      "17:36:04 - cmdstanpy - INFO - Chain [1] start processing\n",
      "17:40:10 - cmdstanpy - INFO - Chain [1] done processing\n"
     ]
    },
    {
     "data": {
      "application/vnd.jupyter.widget-view+json": {
       "model_id": "92b2aa76056848d7a597d07ee597574a",
       "version_major": 2,
       "version_minor": 0
      },
      "text/plain": [
       "  0%|          | 0/1 [00:00<?, ?it/s]"
      ]
     },
     "metadata": {},
     "output_type": "display_data"
    },
    {
     "name": "stderr",
     "output_type": "stream",
     "text": [
      "17:40:53 - cmdstanpy - INFO - Chain [1] start processing\n",
      "17:44:39 - cmdstanpy - INFO - Chain [1] done processing\n",
      "17:45:54 - cmdstanpy - INFO - Chain [1] start processing\n",
      "17:47:07 - cmdstanpy - INFO - Chain [1] done processing\n"
     ]
    },
    {
     "data": {
      "application/vnd.jupyter.widget-view+json": {
       "model_id": "69a8a789cfbd4daa87a25ecb8289a764",
       "version_major": 2,
       "version_minor": 0
      },
      "text/plain": [
       "  0%|          | 0/1 [00:00<?, ?it/s]"
      ]
     },
     "metadata": {},
     "output_type": "display_data"
    },
    {
     "name": "stderr",
     "output_type": "stream",
     "text": [
      "17:47:51 - cmdstanpy - INFO - Chain [1] start processing\n",
      "17:50:21 - cmdstanpy - INFO - Chain [1] done processing\n",
      "17:51:36 - cmdstanpy - INFO - Chain [1] start processing\n",
      "17:51:55 - cmdstanpy - INFO - Chain [1] done processing\n"
     ]
    },
    {
     "data": {
      "application/vnd.jupyter.widget-view+json": {
       "model_id": "ae1c6d8426a14b0386f67a737d967c30",
       "version_major": 2,
       "version_minor": 0
      },
      "text/plain": [
       "  0%|          | 0/1 [00:00<?, ?it/s]"
      ]
     },
     "metadata": {},
     "output_type": "display_data"
    },
    {
     "name": "stderr",
     "output_type": "stream",
     "text": [
      "17:52:38 - cmdstanpy - INFO - Chain [1] start processing\n",
      "17:53:37 - cmdstanpy - INFO - Chain [1] done processing\n",
      "17:54:51 - cmdstanpy - INFO - Chain [1] start processing\n",
      "17:58:50 - cmdstanpy - INFO - Chain [1] done processing\n"
     ]
    },
    {
     "data": {
      "application/vnd.jupyter.widget-view+json": {
       "model_id": "829b311bbb3043e6a0d9d6836d7989bc",
       "version_major": 2,
       "version_minor": 0
      },
      "text/plain": [
       "  0%|          | 0/1 [00:00<?, ?it/s]"
      ]
     },
     "metadata": {},
     "output_type": "display_data"
    },
    {
     "name": "stderr",
     "output_type": "stream",
     "text": [
      "17:59:32 - cmdstanpy - INFO - Chain [1] start processing\n",
      "18:03:45 - cmdstanpy - INFO - Chain [1] done processing\n",
      "18:05:00 - cmdstanpy - INFO - Chain [1] start processing\n",
      "18:08:51 - cmdstanpy - INFO - Chain [1] done processing\n"
     ]
    },
    {
     "data": {
      "application/vnd.jupyter.widget-view+json": {
       "model_id": "72a1a6d5c2554dbcbbfb77f4d7b0ba67",
       "version_major": 2,
       "version_minor": 0
      },
      "text/plain": [
       "  0%|          | 0/1 [00:00<?, ?it/s]"
      ]
     },
     "metadata": {},
     "output_type": "display_data"
    },
    {
     "name": "stderr",
     "output_type": "stream",
     "text": [
      "18:09:34 - cmdstanpy - INFO - Chain [1] start processing\n",
      "18:13:32 - cmdstanpy - INFO - Chain [1] done processing\n",
      "18:14:47 - cmdstanpy - INFO - Chain [1] start processing\n",
      "18:18:58 - cmdstanpy - INFO - Chain [1] done processing\n"
     ]
    },
    {
     "data": {
      "application/vnd.jupyter.widget-view+json": {
       "model_id": "ce43d91526164e0e924c5c5383517cf6",
       "version_major": 2,
       "version_minor": 0
      },
      "text/plain": [
       "  0%|          | 0/1 [00:00<?, ?it/s]"
      ]
     },
     "metadata": {},
     "output_type": "display_data"
    },
    {
     "name": "stderr",
     "output_type": "stream",
     "text": [
      "18:19:41 - cmdstanpy - INFO - Chain [1] start processing\n",
      "18:23:29 - cmdstanpy - INFO - Chain [1] done processing\n",
      "18:24:43 - cmdstanpy - INFO - Chain [1] start processing\n",
      "18:25:56 - cmdstanpy - INFO - Chain [1] done processing\n"
     ]
    },
    {
     "data": {
      "application/vnd.jupyter.widget-view+json": {
       "model_id": "b19bc6ea268d4bdc9ecf8bb73f162707",
       "version_major": 2,
       "version_minor": 0
      },
      "text/plain": [
       "  0%|          | 0/1 [00:00<?, ?it/s]"
      ]
     },
     "metadata": {},
     "output_type": "display_data"
    },
    {
     "name": "stderr",
     "output_type": "stream",
     "text": [
      "18:26:38 - cmdstanpy - INFO - Chain [1] start processing\n",
      "18:28:43 - cmdstanpy - INFO - Chain [1] done processing\n",
      "18:29:16 - cmdstanpy - INFO - Chain [1] start processing\n",
      "18:29:30 - cmdstanpy - INFO - Chain [1] done processing\n"
     ]
    },
    {
     "data": {
      "application/vnd.jupyter.widget-view+json": {
       "model_id": "0e0465fd64434fbb9079802a4115e6a3",
       "version_major": 2,
       "version_minor": 0
      },
      "text/plain": [
       "  0%|          | 0/1 [00:00<?, ?it/s]"
      ]
     },
     "metadata": {},
     "output_type": "display_data"
    },
    {
     "name": "stderr",
     "output_type": "stream",
     "text": [
      "18:29:49 - cmdstanpy - INFO - Chain [1] start processing\n",
      "18:30:25 - cmdstanpy - INFO - Chain [1] done processing\n",
      "18:30:55 - cmdstanpy - INFO - Chain [1] start processing\n",
      "18:33:31 - cmdstanpy - INFO - Chain [1] done processing\n"
     ]
    },
    {
     "data": {
      "application/vnd.jupyter.widget-view+json": {
       "model_id": "1737bb0a4ac141cfaa3239f4bdc52f93",
       "version_major": 2,
       "version_minor": 0
      },
      "text/plain": [
       "  0%|          | 0/1 [00:00<?, ?it/s]"
      ]
     },
     "metadata": {},
     "output_type": "display_data"
    },
    {
     "name": "stderr",
     "output_type": "stream",
     "text": [
      "18:33:50 - cmdstanpy - INFO - Chain [1] start processing\n",
      "18:36:12 - cmdstanpy - INFO - Chain [1] done processing\n",
      "18:36:49 - cmdstanpy - INFO - Chain [1] start processing\n",
      "18:39:03 - cmdstanpy - INFO - Chain [1] done processing\n"
     ]
    },
    {
     "data": {
      "application/vnd.jupyter.widget-view+json": {
       "model_id": "801f1d8fd18846409553e06b2d62b61c",
       "version_major": 2,
       "version_minor": 0
      },
      "text/plain": [
       "  0%|          | 0/1 [00:00<?, ?it/s]"
      ]
     },
     "metadata": {},
     "output_type": "display_data"
    },
    {
     "name": "stderr",
     "output_type": "stream",
     "text": [
      "18:39:21 - cmdstanpy - INFO - Chain [1] start processing\n",
      "18:41:39 - cmdstanpy - INFO - Chain [1] done processing\n",
      "18:42:10 - cmdstanpy - INFO - Chain [1] start processing\n",
      "18:44:30 - cmdstanpy - INFO - Chain [1] done processing\n"
     ]
    },
    {
     "data": {
      "application/vnd.jupyter.widget-view+json": {
       "model_id": "b83b27f502794564b99452f0f0033fe8",
       "version_major": 2,
       "version_minor": 0
      },
      "text/plain": [
       "  0%|          | 0/1 [00:00<?, ?it/s]"
      ]
     },
     "metadata": {},
     "output_type": "display_data"
    },
    {
     "name": "stderr",
     "output_type": "stream",
     "text": [
      "18:44:48 - cmdstanpy - INFO - Chain [1] start processing\n",
      "18:47:00 - cmdstanpy - INFO - Chain [1] done processing\n",
      "18:47:29 - cmdstanpy - INFO - Chain [1] start processing\n",
      "18:48:11 - cmdstanpy - INFO - Chain [1] done processing\n"
     ]
    },
    {
     "data": {
      "application/vnd.jupyter.widget-view+json": {
       "model_id": "16b2df4be20a44fc8dd3158765a7ab96",
       "version_major": 2,
       "version_minor": 0
      },
      "text/plain": [
       "  0%|          | 0/1 [00:00<?, ?it/s]"
      ]
     },
     "metadata": {},
     "output_type": "display_data"
    },
    {
     "name": "stderr",
     "output_type": "stream",
     "text": [
      "18:48:28 - cmdstanpy - INFO - Chain [1] start processing\n",
      "18:49:51 - cmdstanpy - INFO - Chain [1] done processing\n",
      "18:50:21 - cmdstanpy - INFO - Chain [1] start processing\n",
      "18:50:34 - cmdstanpy - INFO - Chain [1] done processing\n"
     ]
    },
    {
     "data": {
      "application/vnd.jupyter.widget-view+json": {
       "model_id": "6c4c8c9c3a2946e2b66238dc437d41e9",
       "version_major": 2,
       "version_minor": 0
      },
      "text/plain": [
       "  0%|          | 0/1 [00:00<?, ?it/s]"
      ]
     },
     "metadata": {},
     "output_type": "display_data"
    },
    {
     "name": "stderr",
     "output_type": "stream",
     "text": [
      "18:50:53 - cmdstanpy - INFO - Chain [1] start processing\n",
      "18:51:26 - cmdstanpy - INFO - Chain [1] done processing\n",
      "18:51:57 - cmdstanpy - INFO - Chain [1] start processing\n",
      "18:54:07 - cmdstanpy - INFO - Chain [1] done processing\n"
     ]
    },
    {
     "data": {
      "application/vnd.jupyter.widget-view+json": {
       "model_id": "1e5d540da9c74b1f9c0d60040b78be83",
       "version_major": 2,
       "version_minor": 0
      },
      "text/plain": [
       "  0%|          | 0/1 [00:00<?, ?it/s]"
      ]
     },
     "metadata": {},
     "output_type": "display_data"
    },
    {
     "name": "stderr",
     "output_type": "stream",
     "text": [
      "18:54:26 - cmdstanpy - INFO - Chain [1] start processing\n",
      "18:56:40 - cmdstanpy - INFO - Chain [1] done processing\n",
      "18:57:11 - cmdstanpy - INFO - Chain [1] start processing\n",
      "18:59:17 - cmdstanpy - INFO - Chain [1] done processing\n"
     ]
    },
    {
     "data": {
      "application/vnd.jupyter.widget-view+json": {
       "model_id": "b46e8912acd14bd990d81d72a4dfc7ac",
       "version_major": 2,
       "version_minor": 0
      },
      "text/plain": [
       "  0%|          | 0/1 [00:00<?, ?it/s]"
      ]
     },
     "metadata": {},
     "output_type": "display_data"
    },
    {
     "name": "stderr",
     "output_type": "stream",
     "text": [
      "18:59:34 - cmdstanpy - INFO - Chain [1] start processing\n",
      "19:01:43 - cmdstanpy - INFO - Chain [1] done processing\n",
      "19:02:13 - cmdstanpy - INFO - Chain [1] start processing\n",
      "19:04:26 - cmdstanpy - INFO - Chain [1] done processing\n"
     ]
    },
    {
     "data": {
      "application/vnd.jupyter.widget-view+json": {
       "model_id": "fb090ee83e0e45bc9063764fa8a6cdb2",
       "version_major": 2,
       "version_minor": 0
      },
      "text/plain": [
       "  0%|          | 0/1 [00:00<?, ?it/s]"
      ]
     },
     "metadata": {},
     "output_type": "display_data"
    },
    {
     "name": "stderr",
     "output_type": "stream",
     "text": [
      "19:04:44 - cmdstanpy - INFO - Chain [1] start processing\n",
      "19:06:46 - cmdstanpy - INFO - Chain [1] done processing\n",
      "19:07:17 - cmdstanpy - INFO - Chain [1] start processing\n",
      "19:07:58 - cmdstanpy - INFO - Chain [1] done processing\n"
     ]
    },
    {
     "data": {
      "application/vnd.jupyter.widget-view+json": {
       "model_id": "b8b57b3003c44d94bf831b7368f6743b",
       "version_major": 2,
       "version_minor": 0
      },
      "text/plain": [
       "  0%|          | 0/1 [00:00<?, ?it/s]"
      ]
     },
     "metadata": {},
     "output_type": "display_data"
    },
    {
     "name": "stderr",
     "output_type": "stream",
     "text": [
      "19:08:16 - cmdstanpy - INFO - Chain [1] start processing\n",
      "19:09:38 - cmdstanpy - INFO - Chain [1] done processing\n",
      "19:10:08 - cmdstanpy - INFO - Chain [1] start processing\n",
      "19:10:21 - cmdstanpy - INFO - Chain [1] done processing\n"
     ]
    },
    {
     "data": {
      "application/vnd.jupyter.widget-view+json": {
       "model_id": "fd0099acaa32422280c3647852649b38",
       "version_major": 2,
       "version_minor": 0
      },
      "text/plain": [
       "  0%|          | 0/1 [00:00<?, ?it/s]"
      ]
     },
     "metadata": {},
     "output_type": "display_data"
    },
    {
     "name": "stderr",
     "output_type": "stream",
     "text": [
      "19:10:39 - cmdstanpy - INFO - Chain [1] start processing\n",
      "19:11:13 - cmdstanpy - INFO - Chain [1] done processing\n",
      "19:11:43 - cmdstanpy - INFO - Chain [1] start processing\n",
      "19:13:52 - cmdstanpy - INFO - Chain [1] done processing\n"
     ]
    },
    {
     "data": {
      "application/vnd.jupyter.widget-view+json": {
       "model_id": "1fa159b5e7924029beda49e36137e38b",
       "version_major": 2,
       "version_minor": 0
      },
      "text/plain": [
       "  0%|          | 0/1 [00:00<?, ?it/s]"
      ]
     },
     "metadata": {},
     "output_type": "display_data"
    },
    {
     "name": "stderr",
     "output_type": "stream",
     "text": [
      "19:14:09 - cmdstanpy - INFO - Chain [1] start processing\n",
      "19:16:29 - cmdstanpy - INFO - Chain [1] done processing\n",
      "19:17:00 - cmdstanpy - INFO - Chain [1] start processing\n",
      "19:19:06 - cmdstanpy - INFO - Chain [1] done processing\n"
     ]
    },
    {
     "data": {
      "application/vnd.jupyter.widget-view+json": {
       "model_id": "532096140e4b46e9985b2f6bce3ec198",
       "version_major": 2,
       "version_minor": 0
      },
      "text/plain": [
       "  0%|          | 0/1 [00:00<?, ?it/s]"
      ]
     },
     "metadata": {},
     "output_type": "display_data"
    },
    {
     "name": "stderr",
     "output_type": "stream",
     "text": [
      "19:19:24 - cmdstanpy - INFO - Chain [1] start processing\n",
      "19:21:35 - cmdstanpy - INFO - Chain [1] done processing\n",
      "19:22:06 - cmdstanpy - INFO - Chain [1] start processing\n",
      "19:24:21 - cmdstanpy - INFO - Chain [1] done processing\n"
     ]
    },
    {
     "data": {
      "application/vnd.jupyter.widget-view+json": {
       "model_id": "403ad01cad7a4f28adf3efdd1e1c08cc",
       "version_major": 2,
       "version_minor": 0
      },
      "text/plain": [
       "  0%|          | 0/1 [00:00<?, ?it/s]"
      ]
     },
     "metadata": {},
     "output_type": "display_data"
    },
    {
     "name": "stderr",
     "output_type": "stream",
     "text": [
      "19:24:38 - cmdstanpy - INFO - Chain [1] start processing\n",
      "19:26:41 - cmdstanpy - INFO - Chain [1] done processing\n",
      "19:27:12 - cmdstanpy - INFO - Chain [1] start processing\n",
      "19:28:11 - cmdstanpy - INFO - Chain [1] done processing\n"
     ]
    },
    {
     "data": {
      "application/vnd.jupyter.widget-view+json": {
       "model_id": "d183786de83c43729d5c7061c39d7e96",
       "version_major": 2,
       "version_minor": 0
      },
      "text/plain": [
       "  0%|          | 0/1 [00:00<?, ?it/s]"
      ]
     },
     "metadata": {},
     "output_type": "display_data"
    },
    {
     "name": "stderr",
     "output_type": "stream",
     "text": [
      "19:28:29 - cmdstanpy - INFO - Chain [1] start processing\n",
      "19:29:36 - cmdstanpy - INFO - Chain [1] done processing\n",
      "19:30:07 - cmdstanpy - INFO - Chain [1] start processing\n",
      "19:30:21 - cmdstanpy - INFO - Chain [1] done processing\n"
     ]
    },
    {
     "data": {
      "application/vnd.jupyter.widget-view+json": {
       "model_id": "07c37bd4182240e4b69324f0705d85cc",
       "version_major": 2,
       "version_minor": 0
      },
      "text/plain": [
       "  0%|          | 0/1 [00:00<?, ?it/s]"
      ]
     },
     "metadata": {},
     "output_type": "display_data"
    },
    {
     "name": "stderr",
     "output_type": "stream",
     "text": [
      "19:30:39 - cmdstanpy - INFO - Chain [1] start processing\n",
      "19:31:08 - cmdstanpy - INFO - Chain [1] done processing\n",
      "19:31:38 - cmdstanpy - INFO - Chain [1] start processing\n",
      "19:33:28 - cmdstanpy - INFO - Chain [1] done processing\n"
     ]
    },
    {
     "data": {
      "application/vnd.jupyter.widget-view+json": {
       "model_id": "e52f8eddae3f44548500abd46e2f2e52",
       "version_major": 2,
       "version_minor": 0
      },
      "text/plain": [
       "  0%|          | 0/1 [00:00<?, ?it/s]"
      ]
     },
     "metadata": {},
     "output_type": "display_data"
    },
    {
     "name": "stderr",
     "output_type": "stream",
     "text": [
      "19:33:46 - cmdstanpy - INFO - Chain [1] start processing\n",
      "19:36:00 - cmdstanpy - INFO - Chain [1] done processing\n",
      "19:36:30 - cmdstanpy - INFO - Chain [1] start processing\n",
      "19:38:41 - cmdstanpy - INFO - Chain [1] done processing\n"
     ]
    },
    {
     "data": {
      "application/vnd.jupyter.widget-view+json": {
       "model_id": "994048f0ed6a4b90b1b43f0e408c2589",
       "version_major": 2,
       "version_minor": 0
      },
      "text/plain": [
       "  0%|          | 0/1 [00:00<?, ?it/s]"
      ]
     },
     "metadata": {},
     "output_type": "display_data"
    },
    {
     "name": "stderr",
     "output_type": "stream",
     "text": [
      "19:38:59 - cmdstanpy - INFO - Chain [1] start processing\n",
      "19:40:53 - cmdstanpy - INFO - Chain [1] done processing\n",
      "19:41:23 - cmdstanpy - INFO - Chain [1] start processing\n",
      "19:43:31 - cmdstanpy - INFO - Chain [1] done processing\n"
     ]
    },
    {
     "data": {
      "application/vnd.jupyter.widget-view+json": {
       "model_id": "a45c135fab0b43fb8e3cb29eca355fbb",
       "version_major": 2,
       "version_minor": 0
      },
      "text/plain": [
       "  0%|          | 0/1 [00:00<?, ?it/s]"
      ]
     },
     "metadata": {},
     "output_type": "display_data"
    },
    {
     "name": "stderr",
     "output_type": "stream",
     "text": [
      "19:43:48 - cmdstanpy - INFO - Chain [1] start processing\n",
      "19:46:31 - cmdstanpy - INFO - Chain [1] done processing\n",
      "19:47:06 - cmdstanpy - INFO - Chain [1] start processing\n",
      "19:48:11 - cmdstanpy - INFO - Chain [1] done processing\n"
     ]
    },
    {
     "data": {
      "application/vnd.jupyter.widget-view+json": {
       "model_id": "e5ca6aef3b9449f9988c6cc57f08501b",
       "version_major": 2,
       "version_minor": 0
      },
      "text/plain": [
       "  0%|          | 0/1 [00:00<?, ?it/s]"
      ]
     },
     "metadata": {},
     "output_type": "display_data"
    },
    {
     "name": "stderr",
     "output_type": "stream",
     "text": [
      "19:48:33 - cmdstanpy - INFO - Chain [1] start processing\n",
      "19:49:54 - cmdstanpy - INFO - Chain [1] done processing\n",
      "19:50:30 - cmdstanpy - INFO - Chain [1] start processing\n",
      "19:50:46 - cmdstanpy - INFO - Chain [1] done processing\n"
     ]
    },
    {
     "data": {
      "application/vnd.jupyter.widget-view+json": {
       "model_id": "4ad45459846044e2965813876f53cf2f",
       "version_major": 2,
       "version_minor": 0
      },
      "text/plain": [
       "  0%|          | 0/1 [00:00<?, ?it/s]"
      ]
     },
     "metadata": {},
     "output_type": "display_data"
    },
    {
     "name": "stderr",
     "output_type": "stream",
     "text": [
      "19:51:06 - cmdstanpy - INFO - Chain [1] start processing\n",
      "19:51:39 - cmdstanpy - INFO - Chain [1] done processing\n",
      "19:52:15 - cmdstanpy - INFO - Chain [1] start processing\n",
      "19:55:32 - cmdstanpy - INFO - Chain [1] done processing\n"
     ]
    },
    {
     "data": {
      "application/vnd.jupyter.widget-view+json": {
       "model_id": "b22fc7750bd64ed79adb7a9e9c4cf604",
       "version_major": 2,
       "version_minor": 0
      },
      "text/plain": [
       "  0%|          | 0/1 [00:00<?, ?it/s]"
      ]
     },
     "metadata": {},
     "output_type": "display_data"
    },
    {
     "name": "stderr",
     "output_type": "stream",
     "text": [
      "19:56:16 - cmdstanpy - INFO - Chain [1] start processing\n",
      "20:00:21 - cmdstanpy - INFO - Chain [1] done processing\n",
      "20:01:35 - cmdstanpy - INFO - Chain [1] start processing\n",
      "20:05:37 - cmdstanpy - INFO - Chain [1] done processing\n"
     ]
    },
    {
     "data": {
      "application/vnd.jupyter.widget-view+json": {
       "model_id": "4a3ccb86882a409eba2c5e86d3b88049",
       "version_major": 2,
       "version_minor": 0
      },
      "text/plain": [
       "  0%|          | 0/1 [00:00<?, ?it/s]"
      ]
     },
     "metadata": {},
     "output_type": "display_data"
    },
    {
     "name": "stderr",
     "output_type": "stream",
     "text": [
      "20:06:21 - cmdstanpy - INFO - Chain [1] start processing\n",
      "20:09:45 - cmdstanpy - INFO - Chain [1] done processing\n",
      "20:11:00 - cmdstanpy - INFO - Chain [1] start processing\n",
      "20:14:55 - cmdstanpy - INFO - Chain [1] done processing\n"
     ]
    },
    {
     "data": {
      "application/vnd.jupyter.widget-view+json": {
       "model_id": "28d48e0da73f4a399993ec3319491faa",
       "version_major": 2,
       "version_minor": 0
      },
      "text/plain": [
       "  0%|          | 0/1 [00:00<?, ?it/s]"
      ]
     },
     "metadata": {},
     "output_type": "display_data"
    },
    {
     "name": "stderr",
     "output_type": "stream",
     "text": [
      "20:15:38 - cmdstanpy - INFO - Chain [1] start processing\n",
      "20:20:28 - cmdstanpy - INFO - Chain [1] done processing\n",
      "20:21:43 - cmdstanpy - INFO - Chain [1] start processing\n",
      "20:23:28 - cmdstanpy - INFO - Chain [1] done processing\n"
     ]
    },
    {
     "data": {
      "application/vnd.jupyter.widget-view+json": {
       "model_id": "1131c22580514d568d9b1273f3211e26",
       "version_major": 2,
       "version_minor": 0
      },
      "text/plain": [
       "  0%|          | 0/1 [00:00<?, ?it/s]"
      ]
     },
     "metadata": {},
     "output_type": "display_data"
    },
    {
     "name": "stderr",
     "output_type": "stream",
     "text": [
      "20:24:12 - cmdstanpy - INFO - Chain [1] start processing\n",
      "20:26:13 - cmdstanpy - INFO - Chain [1] done processing\n",
      "20:27:28 - cmdstanpy - INFO - Chain [1] start processing\n",
      "20:27:50 - cmdstanpy - INFO - Chain [1] done processing\n"
     ]
    },
    {
     "data": {
      "application/vnd.jupyter.widget-view+json": {
       "model_id": "97dabcd371a240f8b1666758350e3646",
       "version_major": 2,
       "version_minor": 0
      },
      "text/plain": [
       "  0%|          | 0/1 [00:00<?, ?it/s]"
      ]
     },
     "metadata": {},
     "output_type": "display_data"
    },
    {
     "name": "stderr",
     "output_type": "stream",
     "text": [
      "20:28:33 - cmdstanpy - INFO - Chain [1] start processing\n",
      "20:29:22 - cmdstanpy - INFO - Chain [1] done processing\n",
      "20:30:38 - cmdstanpy - INFO - Chain [1] start processing\n",
      "20:33:58 - cmdstanpy - INFO - Chain [1] done processing\n"
     ]
    },
    {
     "data": {
      "application/vnd.jupyter.widget-view+json": {
       "model_id": "05afc6f06f704fc6867d32a6f863c6f1",
       "version_major": 2,
       "version_minor": 0
      },
      "text/plain": [
       "  0%|          | 0/1 [00:00<?, ?it/s]"
      ]
     },
     "metadata": {},
     "output_type": "display_data"
    },
    {
     "name": "stderr",
     "output_type": "stream",
     "text": [
      "20:34:42 - cmdstanpy - INFO - Chain [1] start processing\n",
      "20:38:48 - cmdstanpy - INFO - Chain [1] done processing\n",
      "20:40:02 - cmdstanpy - INFO - Chain [1] start processing\n",
      "20:44:05 - cmdstanpy - INFO - Chain [1] done processing\n"
     ]
    },
    {
     "data": {
      "application/vnd.jupyter.widget-view+json": {
       "model_id": "4967c576c5404275845a10c844fba40d",
       "version_major": 2,
       "version_minor": 0
      },
      "text/plain": [
       "  0%|          | 0/1 [00:00<?, ?it/s]"
      ]
     },
     "metadata": {},
     "output_type": "display_data"
    },
    {
     "name": "stderr",
     "output_type": "stream",
     "text": [
      "20:44:49 - cmdstanpy - INFO - Chain [1] start processing\n",
      "20:48:14 - cmdstanpy - INFO - Chain [1] done processing\n",
      "20:49:29 - cmdstanpy - INFO - Chain [1] start processing\n",
      "20:53:24 - cmdstanpy - INFO - Chain [1] done processing\n"
     ]
    },
    {
     "data": {
      "application/vnd.jupyter.widget-view+json": {
       "model_id": "c640590ec19142e3b632f4fc173a1972",
       "version_major": 2,
       "version_minor": 0
      },
      "text/plain": [
       "  0%|          | 0/1 [00:00<?, ?it/s]"
      ]
     },
     "metadata": {},
     "output_type": "display_data"
    },
    {
     "name": "stderr",
     "output_type": "stream",
     "text": [
      "20:54:08 - cmdstanpy - INFO - Chain [1] start processing\n",
      "20:58:57 - cmdstanpy - INFO - Chain [1] done processing\n",
      "21:00:13 - cmdstanpy - INFO - Chain [1] start processing\n",
      "21:01:58 - cmdstanpy - INFO - Chain [1] done processing\n"
     ]
    },
    {
     "data": {
      "application/vnd.jupyter.widget-view+json": {
       "model_id": "98e6e1e78d1a4fbc87b9ae259352dc2d",
       "version_major": 2,
       "version_minor": 0
      },
      "text/plain": [
       "  0%|          | 0/1 [00:00<?, ?it/s]"
      ]
     },
     "metadata": {},
     "output_type": "display_data"
    },
    {
     "name": "stderr",
     "output_type": "stream",
     "text": [
      "21:02:41 - cmdstanpy - INFO - Chain [1] start processing\n",
      "21:04:42 - cmdstanpy - INFO - Chain [1] done processing\n",
      "21:05:57 - cmdstanpy - INFO - Chain [1] start processing\n",
      "21:06:19 - cmdstanpy - INFO - Chain [1] done processing\n"
     ]
    },
    {
     "data": {
      "application/vnd.jupyter.widget-view+json": {
       "model_id": "fa750853b95e41bbb6383f21649b2044",
       "version_major": 2,
       "version_minor": 0
      },
      "text/plain": [
       "  0%|          | 0/1 [00:00<?, ?it/s]"
      ]
     },
     "metadata": {},
     "output_type": "display_data"
    },
    {
     "name": "stderr",
     "output_type": "stream",
     "text": [
      "21:07:03 - cmdstanpy - INFO - Chain [1] start processing\n",
      "21:07:52 - cmdstanpy - INFO - Chain [1] done processing\n",
      "21:09:07 - cmdstanpy - INFO - Chain [1] start processing\n",
      "21:12:26 - cmdstanpy - INFO - Chain [1] done processing\n"
     ]
    },
    {
     "data": {
      "application/vnd.jupyter.widget-view+json": {
       "model_id": "53cd4189b11146149c064466ee26590c",
       "version_major": 2,
       "version_minor": 0
      },
      "text/plain": [
       "  0%|          | 0/1 [00:00<?, ?it/s]"
      ]
     },
     "metadata": {},
     "output_type": "display_data"
    },
    {
     "name": "stderr",
     "output_type": "stream",
     "text": [
      "21:13:11 - cmdstanpy - INFO - Chain [1] start processing\n",
      "21:17:19 - cmdstanpy - INFO - Chain [1] done processing\n",
      "21:18:34 - cmdstanpy - INFO - Chain [1] start processing\n",
      "21:22:36 - cmdstanpy - INFO - Chain [1] done processing\n"
     ]
    },
    {
     "data": {
      "application/vnd.jupyter.widget-view+json": {
       "model_id": "066ce988785c48f1bf9bea9e0c2fb744",
       "version_major": 2,
       "version_minor": 0
      },
      "text/plain": [
       "  0%|          | 0/1 [00:00<?, ?it/s]"
      ]
     },
     "metadata": {},
     "output_type": "display_data"
    },
    {
     "name": "stderr",
     "output_type": "stream",
     "text": [
      "21:23:20 - cmdstanpy - INFO - Chain [1] start processing\n",
      "21:26:47 - cmdstanpy - INFO - Chain [1] done processing\n",
      "21:28:02 - cmdstanpy - INFO - Chain [1] start processing\n",
      "21:32:00 - cmdstanpy - INFO - Chain [1] done processing\n"
     ]
    },
    {
     "data": {
      "application/vnd.jupyter.widget-view+json": {
       "model_id": "0110c031db5a4243a7623e00ce2be6b5",
       "version_major": 2,
       "version_minor": 0
      },
      "text/plain": [
       "  0%|          | 0/1 [00:00<?, ?it/s]"
      ]
     },
     "metadata": {},
     "output_type": "display_data"
    },
    {
     "name": "stderr",
     "output_type": "stream",
     "text": [
      "21:32:45 - cmdstanpy - INFO - Chain [1] start processing\n",
      "21:37:34 - cmdstanpy - INFO - Chain [1] done processing\n",
      "21:38:50 - cmdstanpy - INFO - Chain [1] start processing\n",
      "21:40:36 - cmdstanpy - INFO - Chain [1] done processing\n"
     ]
    },
    {
     "data": {
      "application/vnd.jupyter.widget-view+json": {
       "model_id": "56c1eec3c5bf4f949ce48da89d4439af",
       "version_major": 2,
       "version_minor": 0
      },
      "text/plain": [
       "  0%|          | 0/1 [00:00<?, ?it/s]"
      ]
     },
     "metadata": {},
     "output_type": "display_data"
    },
    {
     "name": "stderr",
     "output_type": "stream",
     "text": [
      "21:41:19 - cmdstanpy - INFO - Chain [1] start processing\n",
      "21:43:19 - cmdstanpy - INFO - Chain [1] done processing\n",
      "21:44:33 - cmdstanpy - INFO - Chain [1] start processing\n",
      "21:44:55 - cmdstanpy - INFO - Chain [1] done processing\n"
     ]
    },
    {
     "data": {
      "application/vnd.jupyter.widget-view+json": {
       "model_id": "d2e44e7f4e784cb3b6505f3d12631695",
       "version_major": 2,
       "version_minor": 0
      },
      "text/plain": [
       "  0%|          | 0/1 [00:00<?, ?it/s]"
      ]
     },
     "metadata": {},
     "output_type": "display_data"
    },
    {
     "name": "stderr",
     "output_type": "stream",
     "text": [
      "21:45:40 - cmdstanpy - INFO - Chain [1] start processing\n",
      "21:46:37 - cmdstanpy - INFO - Chain [1] done processing\n",
      "21:47:53 - cmdstanpy - INFO - Chain [1] start processing\n",
      "21:51:15 - cmdstanpy - INFO - Chain [1] done processing\n"
     ]
    },
    {
     "data": {
      "application/vnd.jupyter.widget-view+json": {
       "model_id": "0c59d76acbe44d13a3d7e25df4e8cec4",
       "version_major": 2,
       "version_minor": 0
      },
      "text/plain": [
       "  0%|          | 0/1 [00:00<?, ?it/s]"
      ]
     },
     "metadata": {},
     "output_type": "display_data"
    },
    {
     "name": "stderr",
     "output_type": "stream",
     "text": [
      "21:51:59 - cmdstanpy - INFO - Chain [1] start processing\n",
      "21:56:05 - cmdstanpy - INFO - Chain [1] done processing\n",
      "21:57:19 - cmdstanpy - INFO - Chain [1] start processing\n",
      "22:01:22 - cmdstanpy - INFO - Chain [1] done processing\n"
     ]
    },
    {
     "data": {
      "application/vnd.jupyter.widget-view+json": {
       "model_id": "12b6d8cf39eb4c0987815c05a94abbb0",
       "version_major": 2,
       "version_minor": 0
      },
      "text/plain": [
       "  0%|          | 0/1 [00:00<?, ?it/s]"
      ]
     },
     "metadata": {},
     "output_type": "display_data"
    },
    {
     "name": "stderr",
     "output_type": "stream",
     "text": [
      "22:02:06 - cmdstanpy - INFO - Chain [1] start processing\n",
      "22:05:37 - cmdstanpy - INFO - Chain [1] done processing\n",
      "22:06:54 - cmdstanpy - INFO - Chain [1] start processing\n",
      "22:10:55 - cmdstanpy - INFO - Chain [1] done processing\n"
     ]
    },
    {
     "data": {
      "application/vnd.jupyter.widget-view+json": {
       "model_id": "4219a5afa297429dae32150fad3bafa4",
       "version_major": 2,
       "version_minor": 0
      },
      "text/plain": [
       "  0%|          | 0/1 [00:00<?, ?it/s]"
      ]
     },
     "metadata": {},
     "output_type": "display_data"
    },
    {
     "name": "stderr",
     "output_type": "stream",
     "text": [
      "22:11:40 - cmdstanpy - INFO - Chain [1] start processing\n",
      "22:16:35 - cmdstanpy - INFO - Chain [1] done processing\n",
      "22:17:50 - cmdstanpy - INFO - Chain [1] start processing\n",
      "22:19:28 - cmdstanpy - INFO - Chain [1] done processing\n"
     ]
    },
    {
     "data": {
      "application/vnd.jupyter.widget-view+json": {
       "model_id": "49228c80f55a454d8113535dce40f79f",
       "version_major": 2,
       "version_minor": 0
      },
      "text/plain": [
       "  0%|          | 0/1 [00:00<?, ?it/s]"
      ]
     },
     "metadata": {},
     "output_type": "display_data"
    },
    {
     "name": "stderr",
     "output_type": "stream",
     "text": [
      "22:20:00 - cmdstanpy - INFO - Chain [1] start processing\n",
      "22:21:12 - cmdstanpy - INFO - Chain [1] done processing\n",
      "22:21:48 - cmdstanpy - INFO - Chain [1] start processing\n",
      "22:22:13 - cmdstanpy - INFO - Chain [1] done processing\n"
     ]
    },
    {
     "data": {
      "application/vnd.jupyter.widget-view+json": {
       "model_id": "3e62ab2977464864b5c09125dbc1b3c4",
       "version_major": 2,
       "version_minor": 0
      },
      "text/plain": [
       "  0%|          | 0/1 [00:00<?, ?it/s]"
      ]
     },
     "metadata": {},
     "output_type": "display_data"
    },
    {
     "name": "stderr",
     "output_type": "stream",
     "text": [
      "22:22:34 - cmdstanpy - INFO - Chain [1] start processing\n",
      "22:22:58 - cmdstanpy - INFO - Chain [1] done processing\n",
      "22:23:29 - cmdstanpy - INFO - Chain [1] start processing\n",
      "22:26:08 - cmdstanpy - INFO - Chain [1] done processing\n"
     ]
    },
    {
     "data": {
      "application/vnd.jupyter.widget-view+json": {
       "model_id": "4710a990763f4e749ade859ffb04f34f",
       "version_major": 2,
       "version_minor": 0
      },
      "text/plain": [
       "  0%|          | 0/1 [00:00<?, ?it/s]"
      ]
     },
     "metadata": {},
     "output_type": "display_data"
    },
    {
     "name": "stderr",
     "output_type": "stream",
     "text": [
      "22:26:26 - cmdstanpy - INFO - Chain [1] start processing\n",
      "22:28:39 - cmdstanpy - INFO - Chain [1] done processing\n",
      "22:29:08 - cmdstanpy - INFO - Chain [1] start processing\n",
      "22:31:30 - cmdstanpy - INFO - Chain [1] done processing\n"
     ]
    },
    {
     "data": {
      "application/vnd.jupyter.widget-view+json": {
       "model_id": "c053110a1be541379dc3fc22b4055952",
       "version_major": 2,
       "version_minor": 0
      },
      "text/plain": [
       "  0%|          | 0/1 [00:00<?, ?it/s]"
      ]
     },
     "metadata": {},
     "output_type": "display_data"
    },
    {
     "name": "stderr",
     "output_type": "stream",
     "text": [
      "22:31:48 - cmdstanpy - INFO - Chain [1] start processing\n",
      "22:33:57 - cmdstanpy - INFO - Chain [1] done processing\n",
      "22:34:30 - cmdstanpy - INFO - Chain [1] start processing\n",
      "22:36:39 - cmdstanpy - INFO - Chain [1] done processing\n"
     ]
    },
    {
     "data": {
      "application/vnd.jupyter.widget-view+json": {
       "model_id": "419c5dc70715413b983215acea050ae8",
       "version_major": 2,
       "version_minor": 0
      },
      "text/plain": [
       "  0%|          | 0/1 [00:00<?, ?it/s]"
      ]
     },
     "metadata": {},
     "output_type": "display_data"
    },
    {
     "name": "stderr",
     "output_type": "stream",
     "text": [
      "22:36:57 - cmdstanpy - INFO - Chain [1] start processing\n",
      "22:38:26 - cmdstanpy - INFO - Chain [1] done processing\n",
      "22:38:56 - cmdstanpy - INFO - Chain [1] start processing\n",
      "22:39:49 - cmdstanpy - INFO - Chain [1] done processing\n"
     ]
    },
    {
     "data": {
      "application/vnd.jupyter.widget-view+json": {
       "model_id": "4150d5f6c30f42bebead03845b9b8234",
       "version_major": 2,
       "version_minor": 0
      },
      "text/plain": [
       "  0%|          | 0/1 [00:00<?, ?it/s]"
      ]
     },
     "metadata": {},
     "output_type": "display_data"
    },
    {
     "name": "stderr",
     "output_type": "stream",
     "text": [
      "22:40:07 - cmdstanpy - INFO - Chain [1] start processing\n",
      "22:41:05 - cmdstanpy - INFO - Chain [1] done processing\n",
      "22:41:35 - cmdstanpy - INFO - Chain [1] start processing\n",
      "22:41:54 - cmdstanpy - INFO - Chain [1] done processing\n"
     ]
    },
    {
     "data": {
      "application/vnd.jupyter.widget-view+json": {
       "model_id": "adecc47f55e9447aa6fd48d7b44899e0",
       "version_major": 2,
       "version_minor": 0
      },
      "text/plain": [
       "  0%|          | 0/1 [00:00<?, ?it/s]"
      ]
     },
     "metadata": {},
     "output_type": "display_data"
    },
    {
     "name": "stderr",
     "output_type": "stream",
     "text": [
      "22:42:12 - cmdstanpy - INFO - Chain [1] start processing\n",
      "22:42:31 - cmdstanpy - INFO - Chain [1] done processing\n",
      "22:43:01 - cmdstanpy - INFO - Chain [1] start processing\n",
      "22:45:35 - cmdstanpy - INFO - Chain [1] done processing\n"
     ]
    },
    {
     "data": {
      "application/vnd.jupyter.widget-view+json": {
       "model_id": "658600bd2d2c4a83a4f6de60115b8d04",
       "version_major": 2,
       "version_minor": 0
      },
      "text/plain": [
       "  0%|          | 0/1 [00:00<?, ?it/s]"
      ]
     },
     "metadata": {},
     "output_type": "display_data"
    },
    {
     "name": "stderr",
     "output_type": "stream",
     "text": [
      "22:45:53 - cmdstanpy - INFO - Chain [1] start processing\n",
      "22:48:03 - cmdstanpy - INFO - Chain [1] done processing\n",
      "22:48:32 - cmdstanpy - INFO - Chain [1] start processing\n",
      "22:50:54 - cmdstanpy - INFO - Chain [1] done processing\n"
     ]
    },
    {
     "data": {
      "application/vnd.jupyter.widget-view+json": {
       "model_id": "a81e465538f14cf98df629b909b4447a",
       "version_major": 2,
       "version_minor": 0
      },
      "text/plain": [
       "  0%|          | 0/1 [00:00<?, ?it/s]"
      ]
     },
     "metadata": {},
     "output_type": "display_data"
    },
    {
     "name": "stderr",
     "output_type": "stream",
     "text": [
      "22:51:13 - cmdstanpy - INFO - Chain [1] start processing\n",
      "22:53:23 - cmdstanpy - INFO - Chain [1] done processing\n",
      "22:53:53 - cmdstanpy - INFO - Chain [1] start processing\n",
      "22:55:51 - cmdstanpy - INFO - Chain [1] done processing\n"
     ]
    },
    {
     "data": {
      "application/vnd.jupyter.widget-view+json": {
       "model_id": "b9a08fc87cb345b79c3a0c42f5782b1a",
       "version_major": 2,
       "version_minor": 0
      },
      "text/plain": [
       "  0%|          | 0/1 [00:00<?, ?it/s]"
      ]
     },
     "metadata": {},
     "output_type": "display_data"
    },
    {
     "name": "stderr",
     "output_type": "stream",
     "text": [
      "22:56:10 - cmdstanpy - INFO - Chain [1] start processing\n",
      "22:57:39 - cmdstanpy - INFO - Chain [1] done processing\n",
      "22:58:10 - cmdstanpy - INFO - Chain [1] start processing\n",
      "22:59:02 - cmdstanpy - INFO - Chain [1] done processing\n"
     ]
    },
    {
     "data": {
      "application/vnd.jupyter.widget-view+json": {
       "model_id": "39f26a01b797467aa53e4f9b0cf9c215",
       "version_major": 2,
       "version_minor": 0
      },
      "text/plain": [
       "  0%|          | 0/1 [00:00<?, ?it/s]"
      ]
     },
     "metadata": {},
     "output_type": "display_data"
    },
    {
     "name": "stderr",
     "output_type": "stream",
     "text": [
      "22:59:20 - cmdstanpy - INFO - Chain [1] start processing\n",
      "23:00:18 - cmdstanpy - INFO - Chain [1] done processing\n",
      "23:00:48 - cmdstanpy - INFO - Chain [1] start processing\n",
      "23:01:08 - cmdstanpy - INFO - Chain [1] done processing\n"
     ]
    },
    {
     "data": {
      "application/vnd.jupyter.widget-view+json": {
       "model_id": "e56224a89e504953bd678ef52c2c5a65",
       "version_major": 2,
       "version_minor": 0
      },
      "text/plain": [
       "  0%|          | 0/1 [00:00<?, ?it/s]"
      ]
     },
     "metadata": {},
     "output_type": "display_data"
    },
    {
     "name": "stderr",
     "output_type": "stream",
     "text": [
      "23:01:26 - cmdstanpy - INFO - Chain [1] start processing\n",
      "23:01:46 - cmdstanpy - INFO - Chain [1] done processing\n",
      "23:02:16 - cmdstanpy - INFO - Chain [1] start processing\n",
      "23:04:51 - cmdstanpy - INFO - Chain [1] done processing\n"
     ]
    },
    {
     "data": {
      "application/vnd.jupyter.widget-view+json": {
       "model_id": "541860796ede4c068d69deef59be4656",
       "version_major": 2,
       "version_minor": 0
      },
      "text/plain": [
       "  0%|          | 0/1 [00:00<?, ?it/s]"
      ]
     },
     "metadata": {},
     "output_type": "display_data"
    },
    {
     "name": "stderr",
     "output_type": "stream",
     "text": [
      "23:05:09 - cmdstanpy - INFO - Chain [1] start processing\n",
      "23:07:18 - cmdstanpy - INFO - Chain [1] done processing\n",
      "23:07:52 - cmdstanpy - INFO - Chain [1] start processing\n"
     ]
    }
   ],
   "source": [
    "results = {}\n",
    "print(f\"Trying all {len(param_combinations)} hyperparameter combinations\")\n",
    "\n",
    "# Generate all combinations of hyperparameters (This creates a list of tuples, where each tuple represents a unique combination of hyperparameters.)\n",
    "param_combinations = list(product(*param_grid.values()))\n",
    "\n",
    "for i in param_combinations:\n",
    "    #Prophet instance with current parameter combination\n",
    "    p = Prophet(**dict(zip(param_grid.keys(), i)))\n",
    "    \n",
    "    #Fit the model\n",
    "    p.fit(model_df)\n",
    "    \n",
    "    #Cross Validation\n",
    "    cv = cross_validation(model=p, initial='730 days', period='365 days', horizon='365 days')\n",
    "    \n",
    "    #Performance metrics\n",
    "    per_metrics = performance_metrics(cv, rolling_window=0)\n",
    "\n",
    "    #Store metrics in the results dictionary\n",
    "    results[i] = per_metrics['mape'].mean()\n"
   ]
  },
  {
   "cell_type": "markdown",
   "id": "5a43ef54",
   "metadata": {},
   "source": [
    " "
   ]
  }
 ],
 "metadata": {
  "kernelspec": {
   "display_name": "Python 3 (ipykernel)",
   "language": "python",
   "name": "python3"
  },
  "language_info": {
   "codemirror_mode": {
    "name": "ipython",
    "version": 3
   },
   "file_extension": ".py",
   "mimetype": "text/x-python",
   "name": "python",
   "nbconvert_exporter": "python",
   "pygments_lexer": "ipython3",
   "version": "3.10.5"
  }
 },
 "nbformat": 4,
 "nbformat_minor": 5
}
